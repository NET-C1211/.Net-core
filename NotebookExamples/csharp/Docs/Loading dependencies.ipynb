{
 "cells": [
  {
   "cell_type": "markdown",
   "metadata": {},
   "source": [
    "# Load dll and nuget pacakges"
   ]
  },
  {
   "cell_type": "markdown",
   "metadata": {},
   "source": [
    "It is possible to load assemblies using a ```#r \"[path to dll]\"``` directive with the path to the dll to load, but is also possible to use the directive to import a nuget package.\n",
    "To load the latest version of a package just use ```#r \"nuget:[package name]```, to lock the notebook on a specific version then use ```#r \"nuget:[package name], 1.2.3```.\n",
    "\n",
    "Load ```System.Reacive.Linq``` at version 4.1.5 and import namespaces"
   ]
  },
  {
   "cell_type": "code",
   "execution_count": 1,
   "metadata": {},
   "outputs": [
    {
     "data": {
      "text/html": [
       "Attempting to install package System.Reactive.Linq, version 4.1.5......................................................done!"
      ]
     },
     "metadata": {},
     "output_type": "display_data"
    },
    {
     "data": {
      "text/html": [
       "Successfully added reference to package System.Reactive.Linq, version 4.1.5"
      ]
     },
     "metadata": {},
     "output_type": "display_data"
    }
   ],
   "source": [
    "#r \"nuget:System.Reactive.Linq, 4.1.5\"\n",
    "\n",
    "using System.Reactive;\n",
    "using System.Reactive.Linq;\n",
    "using System.Reactive.Concurrency;"
   ]
  },
  {
   "cell_type": "code",
   "execution_count": 3,
   "metadata": {},
   "outputs": [
    {
     "data": {
      "text/html": [
       "And now 4"
      ]
     },
     "metadata": {},
     "output_type": "display_data"
    }
   ],
   "source": [
    "var peopleDisplay = display(\"\");\n",
    "\n",
    "var sub = Observable\n",
    "    .Interval(TimeSpan.FromSeconds(3),CurrentThreadScheduler.Instance)    \n",
    "    .Take(5) \n",
    "    .Subscribe(i => peopleDisplay.Update($\"And now {i}\"));"
   ]
  }
 ],
 "metadata": {
  "kernelspec": {
   "display_name": ".NET (C#)",
   "language": "C#",
   "name": ".net-csharp"
  },
  "language_info": {
   "file_extension": ".cs",
   "mimetype": "text/x-csharp",
   "name": "C#",
   "pygments_lexer": "csharp",
   "version": "7.3"
  }
 },
 "nbformat": 4,
 "nbformat_minor": 2
}
