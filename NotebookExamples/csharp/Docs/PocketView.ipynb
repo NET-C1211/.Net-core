{
 "cells": [
  {
   "cell_type": "markdown",
   "metadata": {},
   "source": [
    "# Using pocket view"
   ]
  },
  {
   "cell_type": "markdown",
   "metadata": {},
   "source": [
    "Pocket view is an api that simplifies the generation of html content"
   ]
  },
  {
   "cell_type": "code",
   "execution_count": 5,
   "metadata": {},
   "outputs": [
    {
     "data": {
      "text/html": [
       "<div><span><a href=\"https://en.wikipedia.org\" target=\"blank\"><b>Wikipedia</b></a></span></div>"
      ]
     },
     "metadata": {},
     "output_type": "display_data"
    }
   ],
   "source": [
    "display(div(span(a[href: @\"https://en.wikipedia.org\", target: \"blank\"](b(\"Wikipedia\")))));"
   ]
  },
  {
   "cell_type": "markdown",
   "metadata": {},
   "source": [
    "the api exposes doms elemen as funcion, so if we want to emit a ```<div></div>``` element we just need to call ```div()```.\n",
    "The argument passed to a dom generator will be used as content."
   ]
  },
  {
   "cell_type": "code",
   "execution_count": 6,
   "metadata": {},
   "outputs": [
    {
     "data": {
      "text/html": [
       "<div>Hello html world!</div>"
      ]
     },
     "metadata": {},
     "output_type": "display_data"
    }
   ],
   "source": [
    "display(div(\"Hello html world!\"));"
   ]
  },
  {
   "cell_type": "markdown",
   "metadata": {},
   "source": [
    "using the square brackets we can then add attributes. So to procude ```<a href=\"https://eng.wikipedia.org\" target=\"blank\">Wikipedia</a>``` the code required is."
   ]
  },
  {
   "cell_type": "code",
   "execution_count": 7,
   "metadata": {},
   "outputs": [
    {
     "data": {
      "text/html": [
       "<a href=\"https://en.wikipedia.org\" target=\"blank\">Wikipedia</a>"
      ]
     },
     "metadata": {},
     "output_type": "display_data"
    }
   ],
   "source": [
    "display(a[href: @\"https://en.wikipedia.org\", target: \"blank\"](\"Wikipedia\"));"
   ]
  }
 ],
 "metadata": {
  "kernelspec": {
   "display_name": ".NET (C#)",
   "language": "C#",
   "name": ".net-csharp"
  },
  "language_info": {
   "file_extension": ".cs",
   "mimetype": "text/x-csharp",
   "name": "C#",
   "pygments_lexer": "csharp",
   "version": "7.3"
  }
 },
 "nbformat": 4,
 "nbformat_minor": 2
}
