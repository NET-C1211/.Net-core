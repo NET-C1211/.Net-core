{
 "cells": [
  {
   "cell_type": "markdown",
   "metadata": {},
   "source": [
    "## Repo statistics for trydotnet"
   ]
  },
  {
   "cell_type": "code",
   "execution_count": 54,
   "metadata": {},
   "outputs": [],
   "source": [
    "#r \"nuget:Octokit, 0.32.0\"\n",
    "#r \"nuget:NodaTime, 2.4.6\"\n",
    "using Octokit;\n",
    "using NodaTime;\n",
    "using NodaTime.Extensions;\n",
    "using XPlot.Plotly;"
   ]
  },
  {
   "cell_type": "code",
   "execution_count": 21,
   "metadata": {},
   "outputs": [],
   "source": [
    "var today = SystemClock.Instance.InUtc().GetCurrentDate();\n",
    "var startOfTheMonth = today.With(DateAdjusters.StartOfMonth);"
   ]
  },
  {
   "cell_type": "code",
   "execution_count": 14,
   "metadata": {},
   "outputs": [],
   "source": [
    "var options = new ApiOptions();\n",
    "var gitHubClient = new GitHubClient(new ProductHeaderValue(\"notebook\"));"
   ]
  },
  {
   "cell_type": "code",
   "execution_count": 15,
   "metadata": {},
   "outputs": [],
   "source": [
    "var newIssuesRequest = new RepositoryIssueRequest\n",
    "            {\n",
    "                Since = startOfTheMonth.ToDateTimeUnspecified(),\n",
    "                Filter = IssueFilter.Created\n",
    "            };"
   ]
  },
  {
   "cell_type": "code",
   "execution_count": 86,
   "metadata": {},
   "outputs": [],
   "source": [
    "var issues = await gitHubClient.Issue.GetAllForRepository(\"dotnet\", \"try\");"
   ]
  },
  {
   "cell_type": "code",
   "execution_count": 87,
   "metadata": {},
   "outputs": [],
   "source": [
    "var createdThisMonth = issues.Where(i => i.CreatedAt > startOfTheMonth.ToDateTimeUnspecified());\n",
    "var openSoFar = issues.Where(i => i.State.StringValue == \"open\");\n",
    "var openByMonth = openSoFar.GroupBy(i => new { i.CreatedAt.Year, i.CreatedAt.Month})\n",
    "                .Select(g => new {Date = g.Key, Count = g.Count()});\n",
    "var closedSoFar = issues.Where(i => i.State.StringValue == \"closed\");\n",
    "var closedByMonth = closedSoFar.GroupBy(i => new { i.ClosedAt.Value.Year, i.ClosedAt.Value.Month})\n",
    "                .Select(g => new {Date = g.Key, Count = g.Count()});"
   ]
  },
  {
   "cell_type": "code",
   "execution_count": 88,
   "metadata": {},
   "outputs": [
    {
     "data": {
      "text/html": [
       "<div id=\"1a375f1a-eca6-4363-8459-9354f69615a9\" style=\"width: 900px; height: 500px;\"></div><script type=\"text/javascript\">\r\n",
       "\r\n",
       "var renderPlotly = function() {\r\n",
       "    var xplotRequire = requirejs.config({context:'xplot-2.0.0',paths:{plotly:'https://cdn.plot.ly/plotly-1.49.2.min'}});\r\n",
       "    xplotRequire(['plotly'], function(Plotly) {\r\n",
       "\n",
       "            var data = [{\"type\":\"scatter\",\"x\":[\"2019-09-02T00:00:00\"],\"y\":[1]}];\n",
       "            var layout = {\"title\":\"Issue Open By Day\"};\n",
       "            Plotly.newPlot('1a375f1a-eca6-4363-8459-9354f69615a9', data, layout);\n",
       "        });\r\n",
       "};\r\n",
       "if ((typeof(requirejs) !==  typeof(Function)) || (typeof(requirejs.config) !== typeof(Function))) { \r\n",
       "    var script = document.createElement(\"script\"); \r\n",
       "    script.setAttribute(\"src\", \"https://cdnjs.cloudflare.com/ajax/libs/require.js/2.3.6/require.min.js\"); \r\n",
       "    script.onload = function(){\r\n",
       "        renderPlotly();\r\n",
       "    };\r\n",
       "    document.getElementsByTagName(\"head\")[0].appendChild(script); \r\n",
       "}\r\n",
       "else {\r\n",
       "    renderPlotly();\r\n",
       "}\r\n",
       "</script>"
      ]
     },
     "metadata": {},
     "output_type": "display_data"
    }
   ],
   "source": [
    "//display(createdThisMonth.Select(i => new {i.CreatedAt, i.Title, State = i.State.StringValue,  i.Number}));\n",
    "var lineChart = Chart.Line(createdThisMonth.GroupBy(i => new DateTime(i.CreatedAt.Year,i.CreatedAt.Month, i.CreatedAt.Day)).Select(g => new Tuple<DateTime,int>(g.Key, g.Count())));\n",
    "lineChart.WithTitle(\"Issue Open By Day\");\n",
    "display(lineChart);"
   ]
  },
  {
   "cell_type": "code",
   "execution_count": 93,
   "metadata": {},
   "outputs": [
    {
     "data": {
      "text/html": [
       "<table><thead><tr><th><i>index</i></th><th>CreatedAt</th><th>Title</th><th>State</th><th>Number</th></tr></thead><tbody><tr><td>0</td><td>2019-09-02 13:47:59Z</td><td>Fix exception when --default-kernel is not specified in kernel-server mode</td><td>open</td><td>422</td></tr><tr><td>1</td><td>2019-08-31 08:03:04Z</td><td>dotnet-try kernel-server fails to start without options</td><td>open</td><td>421</td></tr><tr><td>2</td><td>2019-08-31 01:42:29Z</td><td>add support for %%markdown</td><td>open</td><td>420</td></tr><tr><td>3</td><td>2019-08-30 21:33:33Z</td><td>kernel installation fails with confusing error message</td><td>open</td><td>418</td></tr><tr><td>4</td><td>2019-08-30 13:42:40Z</td><td>Kernel Interrupt api</td><td>open</td><td>414</td></tr><tr><td>5</td><td>2019-08-29 21:24:56Z</td><td>Load native dependencies</td><td>open</td><td>413</td></tr><tr><td>6</td><td>2019-08-29 21:18:47Z</td><td>Missing source-file element crashes verify</td><td>open</td><td>412</td></tr><tr><td>7</td><td>2019-08-29 16:08:30Z</td><td>Try the .NET Kernel </td><td>open</td><td>408</td></tr><tr><td>8</td><td>2019-08-28 23:02:55Z</td><td>Generate shims for dotnet-try</td><td>open</td><td>407</td></tr><tr><td>9</td><td>2019-08-23 14:14:57Z</td><td>Allow customizing the default UI experience</td><td>open</td><td>397</td></tr><tr><td>10</td><td>2019-08-23 00:07:06Z</td><td>Load extensions using #r nuget  directive</td><td>open</td><td>396</td></tr><tr><td>11</td><td>2019-08-22 20:09:04Z</td><td>Adding extensions to the .NET kernel using nuget packages</td><td>open</td><td>395</td></tr><tr><td>12</td><td>2019-08-21 22:26:32Z</td><td>Changes for folder structure for dotnet try template</td><td>open</td><td>393</td></tr><tr><td>13</td><td>2019-08-21 21:15:50Z</td><td>&quot;args&quot; in Main(string[] args) is null</td><td>open</td><td>390</td></tr><tr><td>14</td><td>2019-08-20 21:21:42Z</td><td>Attempt to fix assembly loading</td><td>open</td><td>386</td></tr><tr><td>15</td><td>2019-08-19 08:05:46Z</td><td>Provide documentation for using wasm &quot;mode&quot;</td><td>open</td><td>382</td></tr><tr><td>16</td><td>2019-08-14 21:03:49Z</td><td>Fix warnings</td><td>open</td><td>375</td></tr><tr><td>17</td><td>2019-08-14 09:19:47Z</td><td>Cannot edit the header and the footer because there is no .html file in the project</td><td>open</td><td>373</td></tr><tr><td>18</td><td>2019-08-07 21:03:42Z</td><td>Try.NET Async/Await throws exceptions</td><td>open</td><td>362</td></tr><tr><td>19</td><td>2019-08-07 08:34:41Z</td><td>Can&#39;t use dotnet-try with unsafe code</td><td>open</td><td>359</td></tr><tr><td>20</td><td>2019-08-01 18:47:31Z</td><td>#r nuget is really slow</td><td>open</td><td>354</td></tr><tr><td>21</td><td>2019-07-29 22:04:09Z</td><td>NuGet packages with native assets in a notebook</td><td>open</td><td>350</td></tr><tr><td>22</td><td>2019-07-25 19:16:56Z</td><td>Defining a function in one cell and calling it in another results in compilation error</td><td>open</td><td>345</td></tr><tr><td>23</td><td>2019-07-23 10:15:02Z</td><td>Printing the .md document hosted in dotnet try prints only first page</td><td>open</td><td>342</td></tr><tr><td>24</td><td>2019-07-16 19:51:00Z</td><td>Console colors</td><td>open</td><td>327</td></tr><tr><td>25</td><td>2019-07-09 20:43:44Z</td><td>Declaring a `dynamic` variable results in no new output</td><td>open</td><td>315</td></tr><tr><td>26</td><td>2019-06-26 05:06:08Z</td><td>Sample tutorial code doesn&#39;t run</td><td>open</td><td>303</td></tr><tr><td>27</td><td>2019-06-24 08:58:03Z</td><td>Cannot embed using the provided iframe on https://dotnet.microsoft.com/platform/try-dotnet</td><td>open</td><td>298</td></tr><tr><td>28</td><td>2019-06-24 05:29:50Z</td><td>Generated documentation + try.net</td><td>open</td><td>297</td></tr><tr><td>29</td><td>2019-06-20 00:26:56Z</td><td>Code editor overlaps reading material</td><td>open</td><td>293</td></tr><tr><td>30</td><td>2019-06-18 15:18:57Z</td><td>Using destination-file with F# causes an internal server error</td><td>open</td><td>287</td></tr><tr><td>31</td><td>2019-06-18 12:40:15Z</td><td>F# runs last working version if code fails to compile</td><td>open</td><td>285</td></tr><tr><td>32</td><td>2019-06-17 19:32:44Z</td><td>Support for Q#</td><td>open</td><td>284</td></tr><tr><td>33</td><td>2019-06-15 01:36:30Z</td><td>Firefox cursor behaviour in editor</td><td>open</td><td>281</td></tr><tr><td>34</td><td>2019-06-13 22:49:30Z</td><td>case sensitive filenames</td><td>open</td><td>280</td></tr><tr><td>35</td><td>2019-06-12 11:06:44Z</td><td>Code that throws exceptions on macOS can stop Try .NET</td><td>open</td><td>277</td></tr><tr><td>36</td><td>2019-06-10 11:11:43Z</td><td>Feature - Razor Pages (cshtml) as an alternative</td><td>open</td><td>267</td></tr><tr><td>37</td><td>2019-06-05 02:31:03Z</td><td>Add unit test run button that you can point to a unit test class</td><td>open</td><td>256</td></tr><tr><td>38</td><td>2019-06-04 01:26:35Z</td><td>Add System.Memory to the standard packages</td><td>open</td><td>253</td></tr><tr><td>39</td><td>2019-05-31 04:07:35Z</td><td>Allow code *only* in the fenced md, with empty fence in C# file</td><td>open</td><td>247</td></tr><tr><td>40</td><td>2019-05-30 21:43:46Z</td><td>Interact with html</td><td>open</td><td>245</td></tr><tr><td>41</td><td>2019-05-30 20:04:15Z</td><td>Blazor opt-out list changes </td><td>open</td><td>244</td></tr><tr><td>42</td><td>2019-05-30 10:38:54Z</td><td>Feature Request:  Async support in Wasm dynamically compiled assemblies</td><td>open</td><td>242</td></tr><tr><td>43</td><td>2019-05-23 06:02:08Z</td><td>Support for VB.Net</td><td>open</td><td>235</td></tr><tr><td>44</td><td>2019-05-22 18:15:11Z</td><td>allow dotnet try to interact with long-running programs</td><td>open</td><td>230</td></tr><tr><td>45</td><td>2019-05-22 15:55:03Z</td><td>Ability to ignore or remove Console.ReadLine() and Console.ReadKey() with dotnet try</td><td>open</td><td>229</td></tr><tr><td>46</td><td>2019-05-22 00:04:22Z</td><td>Suggestions for names for dotnet try</td><td>open</td><td>226</td></tr><tr><td>47</td><td>2019-05-21 20:55:10Z</td><td>update Monaco editor version to include latest accessibility fixes</td><td>open</td><td>224</td></tr><tr><td>48</td><td>2019-05-21 17:17:07Z</td><td>Suggestion: Add &quot;Try&quot; Button to automatically copy and run code when in Focus mode</td><td>open</td><td>223</td></tr><tr><td>49</td><td>2019-05-21 07:27:47Z</td><td>Support for embedding code via iframe</td><td>open</td><td>221</td></tr><tr><td>50</td><td>2019-05-21 02:23:20Z</td><td>Support for non-textual content output in code samples</td><td>open</td><td>220</td></tr><tr><td>51</td><td>2019-05-20 19:20:51Z</td><td>expand capabilities for using dotnet try with URLs</td><td>open</td><td>217</td></tr><tr><td>52</td><td>2019-05-20 19:02:51Z</td><td>exception at command line when doing dotnet try --uri &lt;directory&gt;</td><td>open</td><td>216</td></tr><tr><td>53</td><td>2019-05-20 17:10:21Z</td><td>dotnet-try should start a background build on launch</td><td>open</td><td>215</td></tr><tr><td>54</td><td>2019-05-18 19:24:24Z</td><td>support for publishing standalone Markdown, static HTML, WebAssembly hosts</td><td>open</td><td>214</td></tr><tr><td>55</td><td>2019-05-17 16:05:12Z</td><td>docker</td><td>open</td><td>213</td></tr><tr><td>56</td><td>2019-05-17 01:41:33Z</td><td>even &quot;hello world&quot; is broken</td><td>open</td><td>211</td></tr><tr><td>57</td><td>2019-05-17 01:02:09Z</td><td>Several flaky tests</td><td>open</td><td>210</td></tr><tr><td>58</td><td>2019-05-16 09:25:35Z</td><td>Two samples running in parallel put the first sample&#39;s result in both boxes</td><td>open</td><td>204</td></tr><tr><td>59</td><td>2019-05-16 06:51:57Z</td><td>Using &#39;ctrl. + space&#39; in Opera doesn&#39;t open Intellisense. The shortcut is already in use.</td><td>open</td><td>202</td></tr><tr><td>60</td><td>2019-05-15 15:30:46Z</td><td>&quot;Unexpected end of JSON input&quot; run-time error</td><td>open</td><td>198</td></tr><tr><td>61</td><td>2019-05-15 12:03:59Z</td><td>Create self-contained experiences</td><td>open</td><td>196</td></tr><tr><td>62</td><td>2019-05-15 11:22:11Z</td><td>Please update the main readme file with the preferred version of .NET Core.</td><td>open</td><td>194</td></tr><tr><td>63</td><td>2019-05-10 21:14:33Z</td><td>add support to dotnet try Markdown for specifying certain settings as file-wide defaults</td><td>open</td><td>187</td></tr><tr><td>64</td><td>2019-05-07 03:53:22Z</td><td>F# support</td><td>open</td><td>183</td></tr><tr><td>65</td><td>2019-04-22 02:33:03Z</td><td>C# 教程的代码有问题</td><td>open</td><td>179</td></tr><tr><td>66</td><td>2019-03-26 22:26:47Z</td><td>Example with using statement fails to compile and run</td><td>open</td><td>174</td></tr><tr><td>67</td><td>2019-03-20 14:12:12Z</td><td>Read-only auto-properties enable read-only types - Compiler Error</td><td>open</td><td>171</td></tr><tr><td>68</td><td>2019-03-19 18:44:59Z</td><td>Ability to cancel code execution</td><td>open</td><td>170</td></tr><tr><td>69</td><td>2019-03-12 18:05:39Z</td><td>The current culture is CultureInfo.InvariantCulture instead of the user&#39;s culture</td><td>open</td><td>168</td></tr><tr><td>70</td><td>2019-03-12 17:25:23Z</td><td>Date and time types use UTC instead of the user&#39;s time zone</td><td>open</td><td>167</td></tr><tr><td>71</td><td>2019-02-20 04:46:41Z</td><td>问题</td><td>open</td><td>165</td></tr><tr><td>72</td><td>2019-02-08 15:43:50Z</td><td>$ is no longer a format?</td><td>open</td><td>161</td></tr><tr><td>73</td><td>2019-02-01 21:30:20Z</td><td>Compile errors when including markdown file</td><td>open</td><td>159</td></tr><tr><td>74</td><td>2019-01-14 02:34:28Z</td><td>Console.ReadLine()  is not supported</td><td>open</td><td>156</td></tr><tr><td>75</td><td>2019-01-06 23:59:26Z</td><td>Android error</td><td>open</td><td>155</td></tr><tr><td>76</td><td>2018-08-20 15:06:13Z</td><td>Consider option of pulling code directly from GitHub. </td><td>open</td><td>137</td></tr><tr><td>77</td><td>2018-07-16 17:07:05Z</td><td>URL Schemes </td><td>open</td><td>125</td></tr><tr><td>78</td><td>2018-07-13 13:54:30Z</td><td>Storyboard: Adding to Curriculum Support </td><td>open</td><td>124</td></tr><tr><td>79</td><td>2018-07-13 13:36:42Z</td><td>Unit testing: Reference #94</td><td>open</td><td>123</td></tr><tr><td>80</td><td>2018-06-27 19:46:14Z</td><td>Support joining a VSLS session</td><td>open</td><td>98</td></tr><tr><td>81</td><td>2018-06-22 15:49:20Z</td><td>Make sure that Try .NET embed content degrades gracefully when Try .NET is unavailable</td><td>open</td><td>96</td></tr><tr><td>82</td><td>2018-06-22 15:41:09Z</td><td>Project Description - Simple to Embed: JavaScript Support</td><td>open</td><td>95</td></tr><tr><td>83</td><td>2018-06-21 18:07:55Z</td><td>Storyboard: Add ability to write and run Tests </td><td>open</td><td>94</td></tr><tr><td>84</td><td>2018-06-21 01:03:40Z</td><td>Support for other assemblies - NuGet Support </td><td>open</td><td>93</td></tr><tr><td>85</td><td>2018-06-20 14:38:26Z</td><td>code execution caching</td><td>open</td><td>92</td></tr><tr><td>86</td><td>2018-06-12 18:14:52Z</td><td>First Draft: Please review Product Roadmap </td><td>open</td><td>90</td></tr><tr><td>87</td><td>2018-06-07 17:47:42Z</td><td>NameValueCollection does not exist</td><td>open</td><td>89</td></tr><tr><td>88</td><td>2018-05-11 10:35:12Z</td><td>resize .net editor</td><td>open</td><td>81</td></tr><tr><td>89</td><td>2018-03-21 14:06:38Z</td><td>Feature request: Pre-load the REPL window with the output from running the code</td><td>open</td><td>63</td></tr><tr><td>90</td><td>2018-03-13 00:58:03Z</td><td>Suggestion: Add button to empty the input area</td><td>open</td><td>61</td></tr><tr><td>91</td><td>2018-02-22 22:00:54Z</td><td>Show .NET Core version</td><td>open</td><td>54</td></tr><tr><td>92</td><td>2018-02-21 18:31:03Z</td><td>Support common code snippet</td><td>open</td><td>52</td></tr><tr><td>93</td><td>2018-02-14 01:32:40Z</td><td>Suggestion: Provide help for people coming from different languages</td><td>open</td><td>48</td></tr><tr><td>94</td><td>2018-02-14 01:16:28Z</td><td>Suggestion: Allow users to specify which .net version they want to work in</td><td>open</td><td>47</td></tr><tr><td>95</td><td>2018-01-23 17:11:14Z</td><td>client-side querystring parameter keys are evaluated in a case-sensitive manner</td><td>open</td><td>43</td></tr><tr><td>96</td><td>2018-01-11 13:14:28Z</td><td>Save code</td><td>open</td><td>39</td></tr><tr><td>97</td><td>2018-01-11 13:10:55Z</td><td>Keyboard shortcuts</td><td>open</td><td>38</td></tr><tr><td>98</td><td>2018-01-11 13:08:07Z</td><td>Increase page margin</td><td>open</td><td>37</td></tr><tr><td>99</td><td>2018-01-11 13:06:49Z</td><td>Support NuGet packages</td><td>open</td><td>36</td></tr><tr><td>100</td><td>2018-01-10 00:36:40Z</td><td>Clicking on types should load the docs.microsoft.com documentation in new tab or iframe.</td><td>open</td><td>34</td></tr><tr><td>101</td><td>2018-01-10 00:33:28Z</td><td>Add &quot;what type is this variable&quot; mouseover information</td><td>open</td><td>31</td></tr><tr><td>102</td><td>2017-12-07 15:09:45Z</td><td>No Paste Option</td><td>open</td><td>21</td></tr><tr><td>103</td><td>2017-11-30 21:24:18Z</td><td>Add namespaces needed for globalization</td><td>open</td><td>19</td></tr><tr><td>104</td><td>2017-10-06 19:24:33Z</td><td>Writing Console.Ou makes autocomplete go bananas</td><td>open</td><td>4</td></tr></tbody></table>"
      ]
     },
     "metadata": {},
     "output_type": "display_data"
    }
   ],
   "source": [
    "display(openSoFar.Select(i => new {i.CreatedAt, i.Title, State = i.State.StringValue,  i.Number}));"
   ]
  },
  {
   "cell_type": "code",
   "execution_count": 89,
   "metadata": {},
   "outputs": [
    {
     "data": {
      "text/html": [
       "<div id=\"5e6f59b9-cad5-4671-8f9b-8f662c3f6c41\" style=\"width: 900px; height: 500px;\"></div><script type=\"text/javascript\">\r\n",
       "\r\n",
       "var renderPlotly = function() {\r\n",
       "    var xplotRequire = requirejs.config({context:'xplot-2.0.0',paths:{plotly:'https://cdn.plot.ly/plotly-1.49.2.min'}});\r\n",
       "    xplotRequire(['plotly'], function(Plotly) {\r\n",
       "\n",
       "            var data = [{\"type\":\"scatter\",\"x\":[\"2019-09-01T00:00:00\",\"2019-08-01T00:00:00\",\"2019-07-01T00:00:00\",\"2019-06-01T00:00:00\",\"2019-05-01T00:00:00\",\"2019-04-01T00:00:00\",\"2019-03-01T00:00:00\",\"2019-02-01T00:00:00\",\"2019-01-01T00:00:00\",\"2018-08-01T00:00:00\",\"2018-07-01T00:00:00\",\"2018-06-01T00:00:00\",\"2018-05-01T00:00:00\",\"2018-03-01T00:00:00\",\"2018-02-01T00:00:00\",\"2018-01-01T00:00:00\",\"2017-12-01T00:00:00\",\"2017-11-01T00:00:00\",\"2017-10-01T00:00:00\"],\"y\":[1,20,5,13,26,1,5,3,2,1,3,8,1,2,4,7,1,1,1]}];\n",
       "            var layout = {\"title\":\"Issue Open By Month\"};\n",
       "            Plotly.newPlot('5e6f59b9-cad5-4671-8f9b-8f662c3f6c41', data, layout);\n",
       "        });\r\n",
       "};\r\n",
       "if ((typeof(requirejs) !==  typeof(Function)) || (typeof(requirejs.config) !== typeof(Function))) { \r\n",
       "    var script = document.createElement(\"script\"); \r\n",
       "    script.setAttribute(\"src\", \"https://cdnjs.cloudflare.com/ajax/libs/require.js/2.3.6/require.min.js\"); \r\n",
       "    script.onload = function(){\r\n",
       "        renderPlotly();\r\n",
       "    };\r\n",
       "    document.getElementsByTagName(\"head\")[0].appendChild(script); \r\n",
       "}\r\n",
       "else {\r\n",
       "    renderPlotly();\r\n",
       "}\r\n",
       "</script>"
      ]
     },
     "metadata": {},
     "output_type": "display_data"
    }
   ],
   "source": [
    "//display(openByMonth);\n",
    "var lineChart = Chart.Line(openByMonth.Select(g => new Tuple<DateTime, int>(new DateTime(g.Date.Year, g.Date.Month, 1),g.Count)));\n",
    "lineChart.WithTitle(\"Issue Open By Month\");\n",
    "display(lineChart);"
   ]
  }
 ],
 "metadata": {
  "kernelspec": {
   "display_name": ".NET (C#)",
   "language": "C#",
   "name": ".net-csharp"
  },
  "language_info": {
   "file_extension": ".cs",
   "mimetype": "text/x-csharp",
   "name": "C#",
   "pygments_lexer": "csharp",
   "version": "7.3"
  }
 },
 "nbformat": 4,
 "nbformat_minor": 2
}
