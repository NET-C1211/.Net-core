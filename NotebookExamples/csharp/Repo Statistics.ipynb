{
 "cells": [
  {
   "cell_type": "markdown",
   "metadata": {},
   "source": [
    "## Repo statistics for trydotnet"
   ]
  },
  {
   "cell_type": "code",
   "execution_count": 1,
   "metadata": {},
   "outputs": [],
   "source": [
    "#r \"nuget:Octokit, 0.32.0\"\n",
    "#r \"nuget:NodaTime, 2.4.6\"\n",
    "using Octokit;\n",
    "using NodaTime;\n",
    "using NodaTime.Extensions;\n",
    "using XPlot.Plotly;"
   ]
  },
  {
   "cell_type": "code",
   "execution_count": 3,
   "metadata": {},
   "outputs": [],
   "source": [
    "var today = SystemClock.Instance.InUtc().GetCurrentDate();\n",
    "var startOfTheMonth = today.With(DateAdjusters.StartOfMonth);\n",
    "var startOfTheYear = new LocalDate(today.Year, 1, 1).AtMidnight();"
   ]
  },
  {
   "cell_type": "code",
   "execution_count": 4,
   "metadata": {},
   "outputs": [],
   "source": [
    "var options = new ApiOptions();\n",
    "var gitHubClient = new GitHubClient(new ProductHeaderValue(\"notebook\"));"
   ]
  },
  {
   "cell_type": "code",
   "execution_count": 5,
   "metadata": {},
   "outputs": [],
   "source": [
    "var createdIssuesRequest = new RepositoryIssueRequest\n",
    "            {\n",
    "                Since = startOfTheMonth.ToDateTimeUnspecified(),\n",
    "                Filter = IssueFilter.Created\n",
    "            };\n",
    "var closedIssuesRequest = new RepositoryIssueRequest\n",
    "            {\n",
    "                Since = startOfTheMonth.ToDateTimeUnspecified(),\n",
    "                State = ItemStateFilter.Closed\n",
    "            };\n",
    "var thisYearIssuesRequest = new RepositoryIssueRequest\n",
    "            {\n",
    "                Since = startOfTheYear.ToDateTimeUnspecified()\n",
    "            };"
   ]
  },
  {
   "cell_type": "code",
   "execution_count": 6,
   "metadata": {},
   "outputs": [
    {
     "ename": "Unhandled Exception",
     "evalue": "(1,86): error CS1503: Argument 3: cannot convert from 'Octokit.RepositoryIssueRequest' to 'Octokit.ApiOptions'\r\n(2,85): error CS1503: Argument 3: cannot convert from 'Octokit.RepositoryIssueRequest' to 'Octokit.ApiOptions'\r\n(3,84): error CS1503: Argument 3: cannot convert from 'Octokit.RepositoryIssueRequest' to 'Octokit.ApiOptions'",
     "output_type": "error",
     "traceback": []
    },
    {
     "name": "stderr",
     "output_type": "stream",
     "text": [
      "(1,86): error CS1503: Argument 3: cannot convert from 'Octokit.RepositoryIssueRequest' to 'Octokit.ApiOptions'\r\n",
      "(2,85): error CS1503: Argument 3: cannot convert from 'Octokit.RepositoryIssueRequest' to 'Octokit.ApiOptions'\r\n",
      "(3,84): error CS1503: Argument 3: cannot convert from 'Octokit.RepositoryIssueRequest' to 'Octokit.ApiOptions'"
     ]
    }
   ],
   "source": [
    "var createdThisMonth = await gitHubClient.Issue.GetAllForRepository(\"dotnet\", \"try\", createdIssuesRequest);\n",
    "var closedThisMonth = await gitHubClient.Issue.GetAllForRepository(\"dotnet\", \"try\", closedIssuesRequest);\n",
    "var thisYearIssues = await gitHubClient.Issue.GetAllForRepository(\"dotnet\", \"try\", thisYearIssuesRequest);"
   ]
  },
  {
   "cell_type": "code",
   "execution_count": 7,
   "metadata": {},
   "outputs": [
    {
     "ename": "Unhandled Exception",
     "evalue": "(1,17): error CS0103: The name 'createdThisMonth' does not exist in the current context\r\n(4,19): error CS0103: The name 'thisYearIssues' does not exist in the current context",
     "output_type": "error",
     "traceback": []
    },
    {
     "name": "stderr",
     "output_type": "stream",
     "text": [
      "(1,17): error CS0103: The name 'createdThisMonth' does not exist in the current context\r\n",
      "(4,19): error CS0103: The name 'thisYearIssues' does not exist in the current context"
     ]
    }
   ],
   "source": [
    "var openSoFar = createdThisMonth.Where(i => i.State.StringValue == \"open\");\n",
    "var openByMonth = openSoFar.GroupBy(i => new { i.CreatedAt.Year, i.CreatedAt.Month})\n",
    "                .Select(g => new {Date = g.Key, Count = g.Count()});\n",
    "var closedSoFar = thisYearIssues.Where(i => i.State.StringValue == \"closed\");\n",
    "var closedByMonth = closedSoFar.GroupBy(i => new { i.ClosedAt.Value.Year, i.ClosedAt.Value.Month})\n",
    "                .Select(g => new {Date = g.Key, Count = g.Count()});"
   ]
  },
  {
   "cell_type": "code",
   "execution_count": 8,
   "metadata": {},
   "outputs": [
    {
     "ename": "Unhandled Exception",
     "evalue": "(2,28): error CS0103: The name 'createdThisMonth' does not exist in the current context",
     "output_type": "error",
     "traceback": []
    },
    {
     "name": "stderr",
     "output_type": "stream",
     "text": [
      "(2,28): error CS0103: The name 'createdThisMonth' does not exist in the current context"
     ]
    }
   ],
   "source": [
    "//display(createdThisMonth.Select(i => new {i.CreatedAt, i.Title, State = i.State.StringValue,  i.Number}));\n",
    "var lineChart = Chart.Line(createdThisMonth.GroupBy(i => new DateTime(i.CreatedAt.Year,i.CreatedAt.Month, i.CreatedAt.Day)).Select(g => new Tuple<DateTime,int>(g.Key, g.Count())));\n",
    "lineChart.WithTitle(\"Issue Open By Day\");\n",
    "display(lineChart);"
   ]
  },
  {
   "cell_type": "code",
   "execution_count": 9,
   "metadata": {},
   "outputs": [
    {
     "ename": "Unhandled Exception",
     "evalue": "(1,9): error CS0103: The name 'openSoFar' does not exist in the current context",
     "output_type": "error",
     "traceback": []
    },
    {
     "name": "stderr",
     "output_type": "stream",
     "text": [
      "(1,9): error CS0103: The name 'openSoFar' does not exist in the current context"
     ]
    }
   ],
   "source": [
    "display(openSoFar.Select(i => new {i.CreatedAt, i.Title, State = i.State.StringValue,  i.Number}));"
   ]
  },
  {
   "cell_type": "code",
   "execution_count": 10,
   "metadata": {},
   "outputs": [
    {
     "ename": "Unhandled Exception",
     "evalue": "(2,28): error CS0103: The name 'openByMonth' does not exist in the current context\r\n(2,120): error CS1503: Argument 2: cannot convert from 'method group' to 'int'",
     "output_type": "error",
     "traceback": []
    },
    {
     "name": "stderr",
     "output_type": "stream",
     "text": [
      "(2,28): error CS0103: The name 'openByMonth' does not exist in the current context\r\n",
      "(2,120): error CS1503: Argument 2: cannot convert from 'method group' to 'int'"
     ]
    }
   ],
   "source": [
    "//display(openByMonth);\n",
    "var lineChart = Chart.Line(openByMonth.Select(g => new Tuple<DateTime, int>(new DateTime(g.Date.Year, g.Date.Month, 1),g.Count)));\n",
    "lineChart.WithTitle(\"Issue Open By Month\");\n",
    "display(lineChart);"
   ]
  }
 ],
 "metadata": {
  "kernelspec": {
   "display_name": ".NET (C#)",
   "language": "C#",
   "name": ".net-csharp"
  },
  "language_info": {
   "file_extension": ".cs",
   "mimetype": "text/x-csharp",
   "name": "C#",
   "pygments_lexer": "csharp",
   "version": "7.3"
  }
 },
 "nbformat": 4,
 "nbformat_minor": 2
}
