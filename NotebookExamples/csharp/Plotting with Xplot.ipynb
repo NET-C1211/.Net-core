{
 "cells": [
  {
   "cell_type": "markdown",
   "metadata": {},
   "source": [
    "We will cover some example on how to use xplot in a notebook with C# .NET Kernel, first import the namespace."
   ]
  },
  {
   "cell_type": "code",
   "execution_count": 6,
   "metadata": {},
   "outputs": [],
   "source": [
    "using XPlot.Plotly;"
   ]
  },
  {
   "cell_type": "markdown",
   "metadata": {},
   "source": [
    "Let's try do declare two scattler plot series and combine them in a single chart"
   ]
  },
  {
   "cell_type": "code",
   "execution_count": 7,
   "metadata": {},
   "outputs": [
    {
     "data": {
      "text/html": [
       "<div id=\"fbcbb567-1b33-41e9-b511-e1904e90ccb0\" style=\"width: 700px; height: 500px;\"></div><script type=\"text/javascript\">\r\n",
       "\r\n",
       "var renderPlotly = function() {\r\n",
       "    var xplotRequire = requirejs.config({context:'xplot-2.0.0',paths:{plotly:'https://cdn.plot.ly/plotly-1.49.2.min'}});\r\n",
       "    xplotRequire(['plotly'], function(Plotly) {\r\n",
       "\n",
       "            var data = [{\"type\":\"scatter\",\"x\":[1,2,3,4],\"y\":[10,15,13,17],\"name\":\"Open\"},{\"type\":\"scatter\",\"x\":[2,3,4,5],\"y\":[16,5,11,9],\"name\":\"Close\"}];\n",
       "            var layout = {\"title\":\"Open vs Close\"};\n",
       "            Plotly.newPlot('fbcbb567-1b33-41e9-b511-e1904e90ccb0', data, layout);\n",
       "        });\r\n",
       "};\r\n",
       "if ((typeof(requirejs) !==  typeof(Function)) || (typeof(requirejs.config) !== typeof(Function))) { \r\n",
       "    var script = document.createElement(\"script\"); \r\n",
       "    script.setAttribute(\"src\", \"https://cdnjs.cloudflare.com/ajax/libs/require.js/2.3.6/require.min.js\"); \r\n",
       "    script.onload = function(){\r\n",
       "        renderPlotly();\r\n",
       "    };\r\n",
       "    document.getElementsByTagName(\"head\")[0].appendChild(script); \r\n",
       "}\r\n",
       "else {\r\n",
       "    renderPlotly();\r\n",
       "}\r\n",
       "</script>"
      ]
     },
     "metadata": {},
     "output_type": "display_data"
    }
   ],
   "source": [
    "var openSeries = new Graph.Scatter\n",
    "{\n",
    "    name = \"Open\",\n",
    "    x = new[] {1, 2, 3, 4},\n",
    "    y = new[] {10, 15, 13, 17}\n",
    "};\n",
    "\n",
    "var closeSeries = new Graph.Scatter\n",
    "{\n",
    "    name = \"Close\",\n",
    "    x = new[] { 2,3,4,5 },\n",
    "    y = new[] { 16, 5, 11, 9 }\n",
    "};\n",
    "\n",
    "var chart = Chart.Plot(new[] {openSeries, closeSeries});\n",
    "chart.Width = 700;\n",
    "chart.Height = 500;\n",
    "chart.WithTitle(\"Open vs Close\");\n",
    "display(chart);"
   ]
  },
  {
   "cell_type": "markdown",
   "metadata": {},
   "source": [
    "Let's change it to be markers style, so more like a scatter plot!"
   ]
  },
  {
   "cell_type": "code",
   "execution_count": null,
   "metadata": {},
   "outputs": [
    {
     "ename": "Unhandled Exception",
     "evalue": "(3,20): error CS1503: Argument 1: cannot convert from 'XPlot.Plotly.Graph.Scatter[]' to 'XPlot.Plotly.Graph.Trace'",
     "output_type": "error",
     "traceback": []
    },
    {
     "name": "stderr",
     "output_type": "stream",
     "text": [
      "(3,20): error CS1503: Argument 1: cannot convert from 'XPlot.Plotly.Graph.Scatter[]' to 'XPlot.Plotly.Graph.Trace'"
     ]
    }
   ],
   "source": [
    "openSeries.mode = \"markers\";\n",
    "closeSeries.mode = \"markers\";\n",
    "chart = Chart.Plot(new [] {openSeries, closeSeries});\n",
    "display(chart);"
   ]
  },
  {
   "cell_type": "markdown",
   "metadata": {},
   "source": [
    "Let's have a look at using histograms"
   ]
  },
  {
   "cell_type": "markdown",
   "metadata": {},
   "source": [
    "First let's generate some timeseries data"
   ]
  },
  {
   "cell_type": "code",
   "execution_count": 8,
   "metadata": {},
   "outputs": [],
   "source": [
    "var count = 20;\n",
    "var generator = new Random(10);\n",
    "var dates = Enumerable.Range(0, count).Select(i => DateTime.Now.AddMinutes(generator.Next(i, i + 30))).ToArray();"
   ]
  },
  {
   "cell_type": "markdown",
   "metadata": {},
   "source": [
    "Now let's define histogram traces"
   ]
  },
  {
   "cell_type": "code",
   "execution_count": 10,
   "metadata": {},
   "outputs": [
    {
     "ename": "Unhandled Exception",
     "evalue": "(16,9): error CS0029: Cannot implicitly convert type 'XPlot.Plotly.PlotlyChart [C:\\Users\\dicolomb\\.dotnet\\tools\\.store\\dotnet-try\\0.0.0\\dotnet-try\\0.0.0\\tools\\netcoreapp3.0\\any\\XPlot.Plotly.dll]' to 'XPlot.Plotly.PlotlyChart [XPlot.Plotly, Version=1.0.0.0, Culture=neutral, PublicKeyToken=null]'",
     "output_type": "error",
     "traceback": []
    },
    {
     "name": "stderr",
     "output_type": "stream",
     "text": [
      "(16,9): error CS0029: Cannot implicitly convert type 'XPlot.Plotly.PlotlyChart [C:\\Users\\dicolomb\\.dotnet\\tools\\.store\\dotnet-try\\0.0.0\\dotnet-try\\0.0.0\\tools\\netcoreapp3.0\\any\\XPlot.Plotly.dll]' to 'XPlot.Plotly.PlotlyChart [XPlot.Plotly, Version=1.0.0.0, Culture=neutral, PublicKeyToken=null]'"
     ]
    }
   ],
   "source": [
    "var openByTime = new Graph.Histogram\n",
    "{\n",
    "    x = dates,\n",
    "    y = Enumerable.Range(0, count).Select(_ => generator.Next(0,200)),\n",
    "    name = \"Open\",\n",
    "    histfunc = \"sum\"\n",
    "};\n",
    "\n",
    "var closeByTime = new Graph.Histogram\n",
    "{\n",
    "    x = dates,\n",
    "    y = Enumerable.Range(0, count).Select(_ => generator.Next(0, 200)),\n",
    "    name = \"Close\",\n",
    "    histfunc = \"sum\"\n",
    "};\n",
    "chart = Chart.Plot(new [] {openByTime, closeByTime});\n",
    "display(chart);"
   ]
  },
  {
   "cell_type": "markdown",
   "metadata": {},
   "source": [
    "The Histogram generator will automatically count the number of items per bin, but by setting ```histfunc``` to ```\"sum\"``` we can now add up all the values contained in each bin,\n",
    "\n",
    "Note that we are creatng bin using the ```x``` data point and we are using bydefault autobinx"
   ]
  }
 ],
 "metadata": {
  "kernelspec": {
   "display_name": ".NET (C#)",
   "language": "C#",
   "name": ".net-csharp"
  },
  "language_info": {
   "file_extension": ".cs",
   "mimetype": "text/x-csharp",
   "name": "C#",
   "pygments_lexer": "csharp",
   "version": "7.3"
  }
 },
 "nbformat": 4,
 "nbformat_minor": 2
}
