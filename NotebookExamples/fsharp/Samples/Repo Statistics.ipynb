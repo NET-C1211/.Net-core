{
 "cells": [
  {
   "cell_type": "code",
   "execution_count": 57,
   "metadata": {},
   "outputs": [
    {
     "name": "stdout",
     "output_type": "stream",
     "text": [
      "yielding source C:\\Users\\kevinr\\AppData\\Local\\Temp\\nuget\\33508\\Project.fsproj.fsx\n"
     ]
    }
   ],
   "source": [
    "#r \"nuget:Octokit, 0.32.0\"\n",
    "#r \"nuget:NodaTime, 2.4.6\"\n",
    "\n",
    "open Octokit\n",
    "open NodaTime\n",
    "open NodaTime.Extensions\n",
    "open XPlot.Plotly"
   ]
  },
  {
   "cell_type": "code",
   "execution_count": 58,
   "metadata": {},
   "outputs": [],
   "source": [
    "let organization = \"dotnet\"\n",
    "let repositoryName = \"try\"\n",
    "let options = ApiOptions()\n",
    "let gitHubClient = GitHubClient(ProductHeaderValue(\"notebook\"))"
   ]
  },
  {
   "cell_type": "code",
   "execution_count": 59,
   "metadata": {},
   "outputs": [
    {
     "data": {
      "text/html": [
       "<null>"
      ]
     },
     "execution_count": 59,
     "metadata": {},
     "output_type": "execute_result"
    }
   ],
   "source": [
    "//var tokenAuth = new Credentials(\"YOUR TOKEN\");\n",
    "//gitHubClient.Credentials = tokenAuth;"
   ]
  },
  {
   "cell_type": "code",
   "execution_count": 60,
   "metadata": {},
   "outputs": [],
   "source": [
    "let today = SystemClock.Instance.InUtc().GetCurrentDate()\n",
    "let startOfTheMonth = today.With(DateAdjusters.Month(1))\n",
    "let startOfTheYear = LocalDate(today.Year, 1, 1).AtMidnight()\n",
    "\n",
    "let since t = Nullable(DateTimeOffset(t))\n",
    "let await f = (async { return! f() |> Async.AwaitTask } |> Async.StartAsTask)"
   ]
  },
  {
   "cell_type": "code",
   "execution_count": 61,
   "metadata": {},
   "outputs": [],
   "source": [
    "let createdIssuesRequest =\n",
    "    RepositoryIssueRequest(\n",
    "        Since = since (startOfTheMonth.ToDateTimeUnspecified()),\n",
    "        Filter = IssueFilter.Created)\n",
    "let closedIssuesRequest =\n",
    "    new RepositoryIssueRequest(\n",
    "                Since = since (startOfTheMonth.ToDateTimeUnspecified()),\n",
    "                State = ItemStateFilter.Closed)\n",
    "let thisYearIssuesRequest =\n",
    "    RepositoryIssueRequest(\n",
    "        Since = since (startOfTheYear.ToDateTimeUnspecified()),\n",
    "        State = ItemStateFilter.All)"
   ]
  },
  {
   "cell_type": "code",
   "execution_count": 62,
   "metadata": {},
   "outputs": [],
   "source": [
    "let createdThisMonth = await (fun () -> gitHubClient.Issue.GetAllForRepository(organization, repositoryName, createdIssuesRequest) )\n",
    "let closedThisMonth =  await (fun () -> gitHubClient.Issue.GetAllForRepository(organization, repositoryName, closedIssuesRequest) )\n",
    "let thisYearIssues =   await (fun () -> gitHubClient.Issue.GetAllForRepository(organization, repositoryName, thisYearIssuesRequest) )"
   ]
  },
  {
   "cell_type": "code",
   "execution_count": 63,
   "metadata": {},
   "outputs": [],
   "source": [
    "let openSoFar =\n",
    "        createdThisMonth\n",
    "            .Result\n",
    "            .OrderBy(fun i -> i.CreatedAt)\n",
    "            .Where(fun i -> i.State.StringValue = \"open\")\n",
    "            .ToArray()\n",
    "\n",
    "let openByMonthOfCreation =\n",
    "        openSoFar\n",
    "            .GroupBy(fun i -> {| Year = i.CreatedAt.Year; Month = i.CreatedAt.Month |})\n",
    "            .Select(fun g ->  {| Date = g.Key; Count = g.Count() |})\n",
    "            .ToArray()\n",
    "\n",
    "let closedSoFar =\n",
    "        thisYearIssues\n",
    "            .Result\n",
    "            .OrderBy(fun i -> i.CreatedAt)\n",
    "            .Where(fun i -> i.State.StringValue = \"closed\")\n",
    "            .ToArray()\n",
    "\n",
    "let closedByMonthOfClosure =\n",
    "        closedSoFar\n",
    "            .GroupBy(fun i -> {| Year = i.ClosedAt.Value.Year; Month = i.ClosedAt.Value.Month |})\n",
    "            .Select(fun g ->  {| Date = g.Key; Count = g.Count() |})\n",
    "            .ToArray();\n",
    "\n",
    "let mutable totalOpenIssues = thisYearIssues.Result.Count\n",
    "\n",
    "let openCountByMonth =\n",
    "    closedSoFar\n",
    "        .GroupBy(fun i -> {| Year = i.CreatedAt.Year; Month = i.CreatedAt.Month |})\n",
    "        .Select(fun g ->\n",
    "                    let count = g.Count()\n",
    "                    let dataPoint = {| Date = g.Key; Count = totalOpenIssues |}\n",
    "                    totalOpenIssues <- totalOpenIssues - count\n",
    "                    dataPoint)\n",
    "        .ToArray()"
   ]
  },
  {
   "cell_type": "code",
   "execution_count": 64,
   "metadata": {},
   "outputs": [
    {
     "data": {
      "text/html": [
       "<div id=\"c205a508-06a8-4929-b681-27840f3edfd9\" style=\"width: 900px; height: 500px;\"></div><script type=\"text/javascript\">\r\n",
       "\r\n",
       "var renderPlotly = function() {\r\n",
       "    var xplotRequire = requirejs.config({context:'xplot-2.0.0',paths:{plotly:'https://cdn.plot.ly/plotly-1.49.2.min'}});\r\n",
       "    xplotRequire(['plotly'], function(Plotly) {\r\n",
       "\n",
       "            var data = [{\"type\":\"scatter\",\"x\":[\"2019-11-01T00:00:00\",\"2019-10-31T00:00:00\",\"2019-10-30T00:00:00\",\"2019-10-29T00:00:00\",\"2019-10-28T00:00:00\",\"2019-10-27T00:00:00\",\"2019-10-25T00:00:00\",\"2019-10-24T00:00:00\",\"2019-10-23T00:00:00\",\"2019-10-16T00:00:00\",\"2019-10-13T00:00:00\",\"2019-10-12T00:00:00\",\"2019-10-11T00:00:00\",\"2019-10-09T00:00:00\",\"2019-10-06T00:00:00\",\"2019-09-29T00:00:00\",\"2019-09-20T00:00:00\",\"2019-09-17T00:00:00\",\"2019-09-15T00:00:00\",\"2019-09-07T00:00:00\",\"2019-09-06T00:00:00\",\"2019-08-29T00:00:00\",\"2019-08-28T00:00:00\",\"2019-08-23T00:00:00\",\"2019-08-22T00:00:00\",\"2019-08-21T00:00:00\",\"2019-08-19T00:00:00\",\"2019-08-14T00:00:00\",\"2019-08-07T00:00:00\",\"2019-08-01T00:00:00\",\"2019-07-29T00:00:00\",\"2019-07-23T00:00:00\",\"2019-07-16T00:00:00\",\"2019-07-09T00:00:00\",\"2019-06-26T00:00:00\",\"2019-06-24T00:00:00\",\"2019-06-20T00:00:00\",\"2019-06-18T00:00:00\",\"2019-06-17T00:00:00\",\"2019-06-15T00:00:00\",\"2019-06-13T00:00:00\",\"2019-06-12T00:00:00\",\"2019-06-10T00:00:00\",\"2019-06-05T00:00:00\",\"2019-06-04T00:00:00\",\"2019-05-31T00:00:00\",\"2019-05-30T00:00:00\",\"2019-05-23T00:00:00\",\"2019-05-22T00:00:00\",\"2019-05-21T00:00:00\",\"2019-05-20T00:00:00\",\"2019-05-18T00:00:00\",\"2019-05-17T00:00:00\",\"2019-05-16T00:00:00\",\"2019-05-15T00:00:00\",\"2019-05-10T00:00:00\",\"2019-05-07T00:00:00\",\"2019-04-22T00:00:00\",\"2019-03-26T00:00:00\",\"2019-03-20T00:00:00\",\"2019-03-19T00:00:00\",\"2019-03-12T00:00:00\",\"2019-02-20T00:00:00\",\"2019-02-08T00:00:00\",\"2019-02-01T00:00:00\",\"2019-01-14T00:00:00\",\"2019-01-06T00:00:00\",\"2018-08-20T00:00:00\",\"2018-07-16T00:00:00\",\"2018-07-13T00:00:00\",\"2018-06-22T00:00:00\",\"2018-06-21T00:00:00\",\"2018-06-20T00:00:00\",\"2018-06-12T00:00:00\",\"2018-05-11T00:00:00\",\"2018-03-13T00:00:00\",\"2018-02-22T00:00:00\",\"2017-12-07T00:00:00\",\"2017-11-30T00:00:00\",\"2017-10-06T00:00:00\"],\"y\":[2,5,1,1,2,3,1,1,1,1,1,2,2,1,1,1,1,2,1,1,1,1,1,1,1,2,1,2,2,1,1,1,1,1,1,2,1,2,1,1,1,1,1,1,1,1,3,1,3,4,3,1,3,2,3,1,1,1,1,1,1,2,1,1,1,1,1,1,1,2,1,2,1,1,1,1,1,1,1,1]}];\n",
       "            var layout = {\"title\":\"Daily Issues\"};\n",
       "            Plotly.newPlot('c205a508-06a8-4929-b681-27840f3edfd9', data, layout);\n",
       "        });\r\n",
       "};\r\n",
       "if ((typeof(requirejs) !==  typeof(Function)) || (typeof(requirejs.config) !== typeof(Function))) { \r\n",
       "    var script = document.createElement(\"script\"); \r\n",
       "    script.setAttribute(\"src\", \"https://cdnjs.cloudflare.com/ajax/libs/require.js/2.3.6/require.min.js\"); \r\n",
       "    script.onload = function(){\r\n",
       "        renderPlotly();\r\n",
       "    };\r\n",
       "    document.getElementsByTagName(\"head\")[0].appendChild(script); \r\n",
       "}\r\n",
       "else {\r\n",
       "    renderPlotly();\r\n",
       "}\r\n",
       "</script>"
      ]
     },
     "metadata": {},
     "output_type": "display_data"
    }
   ],
   "source": [
    "let createdThisMonthByDay = \n",
    "    createdThisMonth.Result.GroupBy(fun i -> DateTime(i.CreatedAt.Year,i.CreatedAt.Month, i.CreatedAt.Day))\n",
    "    \n",
    "let lineChart =\n",
    "    Chart.Line(createdThisMonthByDay.Select(fun g -> Tuple<DateTime,int>(g.Key, g.Count())))\n",
    "\n",
    "lineChart.WithTitle(\"Daily Issues\")\n",
    "\n",
    "display(lineChart)"
   ]
  },
  {
   "cell_type": "code",
   "execution_count": 65,
   "metadata": {},
   "outputs": [
    {
     "data": {
      "text/html": [
       "<table><thead><tr><th><i>index</i></th><th>CreatedAt</th><th>Number</th><th>State</th><th>Title</th></tr></thead><tbody><tr><td>0</td><td>2019-11-01 13:28:34Z</td><td>588</td><td>open</td><td>added content</td></tr><tr><td>1</td><td>2019-11-01 04:52:29Z</td><td>586</td><td>open</td><td>[WIP] #r nuget improvements</td></tr><tr><td>2</td><td>2019-10-31 21:29:54Z</td><td>585</td><td>open</td><td>Use LaTeX formatter when string has the LaTeX pattern</td></tr><tr><td>3</td><td>2019-10-31 16:43:40Z</td><td>584</td><td>open</td><td>#r is unable to load an assembly that&#39;s already on disk</td></tr><tr><td>4</td><td>2019-10-31 15:11:39Z</td><td>583</td><td>open</td><td>Improve package load error formatting </td></tr><tr><td>5</td><td>2019-10-31 14:59:43Z</td><td>582</td><td>open</td><td>#r nuget doesn&#39;t understand wildcard package versions in C# kernel</td></tr><tr><td>6</td><td>2019-10-31 13:30:35Z</td><td>581</td><td>open</td><td>upgrade asp.net packages</td></tr><tr><td>7</td><td>2019-10-30 17:37:29Z</td><td>577</td><td>open</td><td>Change magic command parsing and syntax to not use `%` prefix</td></tr><tr><td>8</td><td>2019-10-29 22:55:15Z</td><td>575</td><td>open</td><td>Consider adapting Fable.React for F# formatting of HTML</td></tr><tr><td>9</td><td>2019-10-28 20:52:54Z</td><td>570</td><td>open</td><td>Custom formatter for F# discriminated unions</td></tr><tr><td>10</td><td>2019-10-28 19:17:38Z</td><td>569</td><td>open</td><td>Support spaces after `%%` in magic commands</td></tr><tr><td>11</td><td>2019-10-27 17:02:53Z</td><td>565</td><td>open</td><td>Graph error when running Tensorflow Transfer Learning on .NET Kernel</td></tr><tr><td>12</td><td>2019-10-27 15:52:32Z</td><td>564</td><td>open</td><td>SqlClientFactory.Instance is null when using Microsoft.Data.SqlClient in Jupyter C# Kernel</td></tr><tr><td>13</td><td>2019-10-27 15:50:18Z</td><td>563</td><td>open</td><td>Unable to use System.Data.SqlClient in Jupyter C# Kernel</td></tr><tr><td>14</td><td>2019-10-25 22:38:59Z</td><td>561</td><td>open</td><td>Support Bloggers and Code Samples</td></tr><tr><td>15</td><td>2019-10-24 21:26:17Z</td><td>552</td><td>open</td><td>Parametrized display</td></tr><tr><td>16</td><td>2019-10-23 03:51:22Z</td><td>547</td><td>open</td><td>System.CommandLine version consolidation</td></tr><tr><td>17</td><td>2019-10-16 22:52:01Z</td><td>536</td><td>open</td><td>Sample Code on page 2 of tutorial should be swapped with page 3 of tutorial</td></tr><tr><td>18</td><td>2019-10-13 10:55:55Z</td><td>527</td><td>open</td><td>static async Task Main(string[] args)</td></tr><tr><td>19</td><td>2019-10-12 13:26:24Z</td><td>525</td><td>open</td><td>Unable to use extension methods in .NET Jupyter Kernel</td></tr><tr><td>20</td><td>2019-10-12 12:17:41Z</td><td>524</td><td>open</td><td>New C# 8 Features Unusable on Try.Dot.NET</td></tr><tr><td>21</td><td>2019-10-11 22:38:06Z</td><td>523</td><td>open</td><td>We need to have display/preview function to show unstructured data like images, videos, sound</td></tr><tr><td>22</td><td>2019-10-11 22:17:03Z</td><td>522</td><td>open</td><td>notebook kernel stop the process when it calls &quot;console.writeline&quot; method.</td></tr><tr><td>23</td><td>2019-10-09 22:01:03Z</td><td>516</td><td>open</td><td>terminal formatter and mime type support</td></tr><tr><td>24</td><td>2019-10-06 12:48:15Z</td><td>500</td><td>open</td><td>Focus mode does not work in Safari on iOS 13 or macOS Catalina</td></tr><tr><td>25</td><td>2019-09-29 16:35:57Z</td><td>485</td><td>open</td><td>include command type in JSON payload for events in stdio mode</td></tr><tr><td>26</td><td>2019-09-20 00:00:23Z</td><td>469</td><td>open</td><td>Parse errors in directives doesnt show up</td></tr><tr><td>27</td><td>2019-09-17 23:52:41Z</td><td>458</td><td>open</td><td>Support wildcards in NuGet Versions</td></tr><tr><td>28</td><td>2019-09-17 20:26:24Z</td><td>453</td><td>open</td><td>[DEBUG][Vs2019] Adding a startvs.cmd would help</td></tr><tr><td>29</td><td>2019-09-15 20:26:02Z</td><td>445</td><td>open</td><td>[3.0.0-rc1] System.ArgumentException: An item with the same key has already been added. Key: .wasm</td></tr><tr><td>30</td><td>2019-09-07 09:56:08Z</td><td>429</td><td>open</td><td>Android on screen function is not working, back space can&#39;t be used to edit</td></tr><tr><td>31</td><td>2019-09-06 01:29:27Z</td><td>428</td><td>open</td><td>Creating kernel extensions that are not part of other nuget packages</td></tr><tr><td>32</td><td>2019-08-29 21:18:47Z</td><td>412</td><td>open</td><td>Missing source-file element crashes verify</td></tr><tr><td>33</td><td>2019-08-28 23:02:55Z</td><td>407</td><td>open</td><td>Generate shims for dotnet-try</td></tr><tr><td>34</td><td>2019-08-23 14:14:57Z</td><td>397</td><td>open</td><td>Allow customizing the default UI experience</td></tr><tr><td>35</td><td>2019-08-22 20:09:04Z</td><td>395</td><td>open</td><td>Adding extensions to the .NET kernel using nuget packages</td></tr><tr><td>36</td><td>2019-08-21 22:26:32Z</td><td>393</td><td>open</td><td>Changes for folder structure for dotnet try template</td></tr><tr><td>37</td><td>2019-08-21 21:15:50Z</td><td>390</td><td>open</td><td>&quot;args&quot; in Main(string[] args) is null</td></tr><tr><td>38</td><td>2019-08-19 08:05:46Z</td><td>382</td><td>open</td><td>Provide documentation for using wasm &quot;mode&quot;</td></tr><tr><td>39</td><td>2019-08-14 21:03:49Z</td><td>375</td><td>open</td><td>Fix warnings</td></tr><tr><td>40</td><td>2019-08-14 09:19:47Z</td><td>373</td><td>open</td><td>Cannot edit the header and the footer because there is no .html file in the project</td></tr><tr><td>41</td><td>2019-08-07 21:03:42Z</td><td>362</td><td>open</td><td>Try.NET Async/Await throws exceptions</td></tr><tr><td>42</td><td>2019-08-07 08:34:41Z</td><td>359</td><td>open</td><td>Can&#39;t use dotnet-try with unsafe code</td></tr><tr><td>43</td><td>2019-08-01 18:47:31Z</td><td>354</td><td>open</td><td>#r nuget is really slow</td></tr><tr><td>44</td><td>2019-07-29 22:04:09Z</td><td>350</td><td>open</td><td>NuGet packages with native assets in a notebook</td></tr><tr><td>45</td><td>2019-07-23 10:15:02Z</td><td>342</td><td>open</td><td>Printing the .md document hosted in dotnet try prints only first page</td></tr><tr><td>46</td><td>2019-07-16 19:51:00Z</td><td>327</td><td>open</td><td>Console colors</td></tr><tr><td>47</td><td>2019-07-09 20:43:44Z</td><td>315</td><td>open</td><td>Declaring a `dynamic` variable results in no new output</td></tr><tr><td>48</td><td>2019-06-26 05:06:08Z</td><td>303</td><td>open</td><td>Sample tutorial code doesn&#39;t run</td></tr><tr><td>49</td><td>2019-06-24 08:58:03Z</td><td>298</td><td>open</td><td>Cannot embed using the provided iframe on https://dotnet.microsoft.com/platform/try-dotnet</td></tr><tr><td>50</td><td>2019-06-24 05:29:50Z</td><td>297</td><td>open</td><td>Generated documentation + try.net</td></tr><tr><td>51</td><td>2019-06-20 00:26:56Z</td><td>293</td><td>open</td><td>Code editor overlaps reading material</td></tr><tr><td>52</td><td>2019-06-18 15:18:57Z</td><td>287</td><td>open</td><td>Using destination-file with F# causes an internal server error</td></tr><tr><td>53</td><td>2019-06-18 12:40:15Z</td><td>285</td><td>open</td><td>F# runs last working version if code fails to compile</td></tr><tr><td>54</td><td>2019-06-17 19:32:44Z</td><td>284</td><td>open</td><td>Support for Q#</td></tr><tr><td>55</td><td>2019-06-15 01:36:30Z</td><td>281</td><td>open</td><td>Firefox cursor behaviour in editor</td></tr><tr><td>56</td><td>2019-06-13 22:49:30Z</td><td>280</td><td>open</td><td>case sensitive filenames</td></tr><tr><td>57</td><td>2019-06-12 11:06:44Z</td><td>277</td><td>open</td><td>Code that throws exceptions on macOS can stop Try .NET</td></tr><tr><td>58</td><td>2019-06-10 11:11:43Z</td><td>267</td><td>open</td><td>Feature - Razor Pages (cshtml) as an alternative</td></tr><tr><td>59</td><td>2019-06-05 02:31:03Z</td><td>256</td><td>open</td><td>Add unit test run button that you can point to a unit test class</td></tr><tr><td>60</td><td>2019-06-04 01:26:35Z</td><td>253</td><td>open</td><td>Add System.Memory to the standard packages</td></tr><tr><td>61</td><td>2019-05-31 04:07:35Z</td><td>247</td><td>open</td><td>Allow code *only* in the fenced md, with empty fence in C# file</td></tr><tr><td>62</td><td>2019-05-30 21:43:46Z</td><td>245</td><td>open</td><td>Interact with html</td></tr><tr><td>63</td><td>2019-05-30 20:04:15Z</td><td>244</td><td>open</td><td>Blazor opt-out list changes </td></tr><tr><td>64</td><td>2019-05-30 10:38:54Z</td><td>242</td><td>open</td><td>Feature Request:  Async support in Wasm dynamically compiled assemblies</td></tr><tr><td>65</td><td>2019-05-23 06:02:08Z</td><td>235</td><td>open</td><td>Support for VB.Net</td></tr><tr><td>66</td><td>2019-05-22 18:15:11Z</td><td>230</td><td>open</td><td>allow dotnet try to interact with long-running programs</td></tr><tr><td>67</td><td>2019-05-22 15:55:03Z</td><td>229</td><td>open</td><td>Ability to ignore or remove Console.ReadLine() and Console.ReadKey() with dotnet try</td></tr><tr><td>68</td><td>2019-05-22 00:04:22Z</td><td>226</td><td>open</td><td>Suggestions for names for dotnet try</td></tr><tr><td>69</td><td>2019-05-21 20:55:10Z</td><td>224</td><td>open</td><td>update Monaco editor version to include latest accessibility fixes</td></tr><tr><td>70</td><td>2019-05-21 17:17:07Z</td><td>223</td><td>open</td><td>Suggestion: Add &quot;Try&quot; Button to automatically copy and run code when in Focus mode</td></tr><tr><td>71</td><td>2019-05-21 07:27:47Z</td><td>221</td><td>open</td><td>Support for embedding code via iframe</td></tr><tr><td>72</td><td>2019-05-21 02:23:20Z</td><td>220</td><td>open</td><td>Support for non-textual content output in code samples</td></tr><tr><td>73</td><td>2019-05-20 19:20:51Z</td><td>217</td><td>open</td><td>expand capabilities for using dotnet try with URLs</td></tr><tr><td>74</td><td>2019-05-20 19:02:51Z</td><td>216</td><td>open</td><td>exception at command line when doing dotnet try --uri &lt;directory&gt;</td></tr><tr><td>75</td><td>2019-05-20 17:10:21Z</td><td>215</td><td>open</td><td>dotnet-try should start a background build on launch</td></tr><tr><td>76</td><td>2019-05-18 19:24:24Z</td><td>214</td><td>open</td><td>support for publishing standalone Markdown, static HTML, WebAssembly hosts</td></tr><tr><td>77</td><td>2019-05-17 16:05:12Z</td><td>213</td><td>open</td><td>docker</td></tr><tr><td>78</td><td>2019-05-17 01:41:33Z</td><td>211</td><td>open</td><td>even &quot;hello world&quot; is broken</td></tr><tr><td>79</td><td>2019-05-17 01:02:09Z</td><td>210</td><td>open</td><td>Several flaky tests</td></tr><tr><td>80</td><td>2019-05-16 09:25:35Z</td><td>204</td><td>open</td><td>Two samples running in parallel put the first sample&#39;s result in both boxes</td></tr><tr><td>81</td><td>2019-05-16 06:51:57Z</td><td>202</td><td>open</td><td>Using &#39;ctrl. + space&#39; in Opera doesn&#39;t open Intellisense. The shortcut is already in use.</td></tr><tr><td>82</td><td>2019-05-15 15:30:46Z</td><td>198</td><td>open</td><td>&quot;Unexpected end of JSON input&quot; run-time error</td></tr><tr><td>83</td><td>2019-05-15 12:03:59Z</td><td>196</td><td>open</td><td>Create self-contained experiences</td></tr><tr><td>84</td><td>2019-05-15 11:22:11Z</td><td>194</td><td>open</td><td>Please update the main readme file with the preferred version of .NET Core.</td></tr><tr><td>85</td><td>2019-05-10 21:14:33Z</td><td>187</td><td>open</td><td>add support to dotnet try Markdown for specifying certain settings as file-wide defaults</td></tr><tr><td>86</td><td>2019-05-07 03:53:22Z</td><td>183</td><td>open</td><td>F# support</td></tr><tr><td>87</td><td>2019-04-22 02:33:03Z</td><td>179</td><td>open</td><td>C# 教程的代码有问题</td></tr><tr><td>88</td><td>2019-03-26 22:26:47Z</td><td>174</td><td>open</td><td>Example with using statement fails to compile and run</td></tr><tr><td>89</td><td>2019-03-20 14:12:12Z</td><td>171</td><td>open</td><td>Read-only auto-properties enable read-only types - Compiler Error</td></tr><tr><td>90</td><td>2019-03-19 18:44:59Z</td><td>170</td><td>open</td><td>Ability to cancel code execution</td></tr><tr><td>91</td><td>2019-03-12 18:05:39Z</td><td>168</td><td>open</td><td>The current culture is CultureInfo.InvariantCulture instead of the user&#39;s culture</td></tr><tr><td>92</td><td>2019-03-12 17:25:23Z</td><td>167</td><td>open</td><td>Date and time types use UTC instead of the user&#39;s time zone</td></tr><tr><td>93</td><td>2019-02-20 04:46:41Z</td><td>165</td><td>open</td><td>问题</td></tr><tr><td>94</td><td>2019-02-08 15:43:50Z</td><td>161</td><td>open</td><td>$ is no longer a format?</td></tr><tr><td>95</td><td>2019-02-01 21:30:20Z</td><td>159</td><td>open</td><td>Compile errors when including markdown file</td></tr><tr><td>96</td><td>2019-01-14 02:34:28Z</td><td>156</td><td>open</td><td>Console.ReadLine()  is not supported</td></tr><tr><td>97</td><td>2019-01-06 23:59:26Z</td><td>155</td><td>open</td><td>Android error</td></tr><tr><td>98</td><td>2018-08-20 15:06:13Z</td><td>137</td><td>open</td><td>Consider option of pulling code directly from GitHub. </td></tr><tr><td>99</td><td>2018-07-16 17:07:05Z</td><td>125</td><td>open</td><td>URL Schemes </td></tr><tr><td>100</td><td>2018-07-13 13:54:30Z</td><td>124</td><td>open</td><td>Storyboard: Adding to Curriculum Support </td></tr><tr><td>101</td><td>2018-07-13 13:36:42Z</td><td>123</td><td>open</td><td>Unit testing: Reference #94</td></tr><tr><td>102</td><td>2018-06-22 15:41:09Z</td><td>95</td><td>open</td><td>Project Description - Simple to Embed: JavaScript Support</td></tr><tr><td>103</td><td>2018-06-21 18:07:55Z</td><td>94</td><td>open</td><td>Storyboard: Add ability to write and run Tests </td></tr><tr><td>104</td><td>2018-06-21 01:03:40Z</td><td>93</td><td>open</td><td>Support for other assemblies - NuGet Support </td></tr><tr><td>105</td><td>2018-06-20 14:38:26Z</td><td>92</td><td>open</td><td>code execution caching</td></tr><tr><td>106</td><td>2018-06-12 18:14:52Z</td><td>90</td><td>open</td><td>First Draft: Please review Product Roadmap </td></tr><tr><td>107</td><td>2018-05-11 10:35:12Z</td><td>81</td><td>open</td><td>resize .net editor</td></tr><tr><td>108</td><td>2018-03-13 00:58:03Z</td><td>61</td><td>open</td><td>Suggestion: Add button to empty the input area</td></tr><tr><td>109</td><td>2018-02-22 22:00:54Z</td><td>54</td><td>open</td><td>Show .NET Core version</td></tr><tr><td>110</td><td>2017-12-07 15:09:45Z</td><td>21</td><td>open</td><td>No Paste Option</td></tr><tr><td>111</td><td>2017-11-30 21:24:18Z</td><td>19</td><td>open</td><td>Add namespaces needed for globalization</td></tr><tr><td>112</td><td>2017-10-06 19:24:33Z</td><td>4</td><td>open</td><td>Writing Console.Ou makes autocomplete go bananas</td></tr></tbody></table>"
      ]
     },
     "metadata": {},
     "output_type": "display_data"
    }
   ],
   "source": [
    "let table =\n",
    "    openSoFar\n",
    "        .Select(fun i -> {| CreatedAt = i.CreatedAt; Title = i.Title; State = i.State.StringValue; Number = i.Number |})\n",
    "        .OrderByDescending(fun d -> d.CreatedAt)\n",
    "\n",
    "display(table)"
   ]
  },
  {
   "cell_type": "code",
   "execution_count": 66,
   "metadata": {},
   "outputs": [
    {
     "data": {
      "text/html": [
       "<div id=\"f4a20985-b12f-466e-9995-794429c5c536\" style=\"width: 900px; height: 500px;\"></div><script type=\"text/javascript\">\r\n",
       "\r\n",
       "var renderPlotly = function() {\r\n",
       "    var xplotRequire = requirejs.config({context:'xplot-2.0.0',paths:{plotly:'https://cdn.plot.ly/plotly-1.49.2.min'}});\r\n",
       "    xplotRequire(['plotly'], function(Plotly) {\r\n",
       "\n",
       "            var data = [{\"type\":\"scatter\",\"x\":[\"2017-10-01T00:00:00\",\"2017-11-01T00:00:00\",\"2017-12-01T00:00:00\",\"2018-02-01T00:00:00\",\"2018-03-01T00:00:00\",\"2018-05-01T00:00:00\",\"2018-06-01T00:00:00\",\"2018-07-01T00:00:00\",\"2018-08-01T00:00:00\",\"2019-01-01T00:00:00\",\"2019-02-01T00:00:00\",\"2019-03-01T00:00:00\",\"2019-04-01T00:00:00\",\"2019-05-01T00:00:00\",\"2019-06-01T00:00:00\",\"2019-07-01T00:00:00\",\"2019-08-01T00:00:00\",\"2019-09-01T00:00:00\",\"2019-10-01T00:00:00\",\"2019-11-01T00:00:00\"],\"y\":[1,1,1,1,1,1,5,3,1,2,3,5,1,26,13,4,12,7,23,2]}];\n",
       "            var layout = {\"title\":\"Issues still opened grouped by month\"};\n",
       "            Plotly.newPlot('f4a20985-b12f-466e-9995-794429c5c536', data, layout);\n",
       "        });\r\n",
       "};\r\n",
       "if ((typeof(requirejs) !==  typeof(Function)) || (typeof(requirejs.config) !== typeof(Function))) { \r\n",
       "    var script = document.createElement(\"script\"); \r\n",
       "    script.setAttribute(\"src\", \"https://cdnjs.cloudflare.com/ajax/libs/require.js/2.3.6/require.min.js\"); \r\n",
       "    script.onload = function(){\r\n",
       "        renderPlotly();\r\n",
       "    };\r\n",
       "    document.getElementsByTagName(\"head\")[0].appendChild(script); \r\n",
       "}\r\n",
       "else {\r\n",
       "    renderPlotly();\r\n",
       "}\r\n",
       "</script>"
      ]
     },
     "metadata": {},
     "output_type": "display_data"
    }
   ],
   "source": [
    "let lineChart =\n",
    "    Chart.Line(openByMonthOfCreation.Select(fun g -> Tuple<DateTime, int>(DateTime(g.Date.Year, g.Date.Month, 1), g.Count)))\n",
    "\n",
    "lineChart.WithTitle(\"Issues still opened grouped by month\")\n",
    "\n",
    "display(lineChart)"
   ]
  },
  {
   "cell_type": "code",
   "execution_count": 67,
   "metadata": {},
   "outputs": [
    {
     "data": {
      "text/html": [
       "<div id=\"cab63aa8-4747-442c-8a17-feb32bc58b98\" style=\"width: 900px; height: 500px;\"></div><script type=\"text/javascript\">\r\n",
       "\r\n",
       "var renderPlotly = function() {\r\n",
       "    var xplotRequire = requirejs.config({context:'xplot-2.0.0',paths:{plotly:'https://cdn.plot.ly/plotly-1.49.2.min'}});\r\n",
       "    xplotRequire(['plotly'], function(Plotly) {\r\n",
       "\n",
       "            var data = [{\"type\":\"scattergl\",\"x\":[\"2018-06-01T00:00:00\",\"2018-07-01T00:00:00\",\"2019-02-01T00:00:00\",\"2019-03-01T00:00:00\",\"2019-05-01T00:00:00\",\"2019-06-01T00:00:00\",\"2019-07-01T00:00:00\",\"2019-08-01T00:00:00\",\"2019-09-01T00:00:00\",\"2019-10-01T00:00:00\",\"2019-11-01T00:00:00\"],\"y\":[1,2,1,3,10,7,1,7,4,15,2],\"name\":\"Idle\"},{\"type\":\"scattergl\",\"x\":[\"2017-10-01T00:00:00\",\"2017-11-01T00:00:00\",\"2017-12-01T00:00:00\",\"2018-02-01T00:00:00\",\"2018-03-01T00:00:00\",\"2018-05-01T00:00:00\",\"2018-06-01T00:00:00\",\"2018-07-01T00:00:00\",\"2018-08-01T00:00:00\",\"2019-01-01T00:00:00\",\"2019-02-01T00:00:00\",\"2019-03-01T00:00:00\",\"2019-04-01T00:00:00\",\"2019-05-01T00:00:00\",\"2019-06-01T00:00:00\",\"2019-07-01T00:00:00\",\"2019-08-01T00:00:00\",\"2019-09-01T00:00:00\",\"2019-10-01T00:00:00\"],\"y\":[1,1,1,1,1,1,4,1,1,2,2,2,1,16,6,3,5,3,8],\"name\":\"Active\"}];\n",
       "            var layout = {\"title\":\"Idle and active open issue report\"};\n",
       "            Plotly.newPlot('cab63aa8-4747-442c-8a17-feb32bc58b98', data, layout);\n",
       "        });\r\n",
       "};\r\n",
       "if ((typeof(requirejs) !==  typeof(Function)) || (typeof(requirejs.config) !== typeof(Function))) { \r\n",
       "    var script = document.createElement(\"script\"); \r\n",
       "    script.setAttribute(\"src\", \"https://cdnjs.cloudflare.com/ajax/libs/require.js/2.3.6/require.min.js\"); \r\n",
       "    script.onload = function(){\r\n",
       "        renderPlotly();\r\n",
       "    };\r\n",
       "    document.getElementsByTagName(\"head\")[0].appendChild(script); \r\n",
       "}\r\n",
       "else {\r\n",
       "    renderPlotly();\r\n",
       "}\r\n",
       "</script>"
      ]
     },
     "metadata": {},
     "output_type": "display_data"
    }
   ],
   "source": [
    "let idleByMonth =\n",
    "    openSoFar\n",
    "        .Where(fun i -> i.Comments = 0)\n",
    "        .GroupBy(fun i -> DateTime(i.CreatedAt.Year, i.CreatedAt.Month, 1))\n",
    "        .Select(fun g -> {| Date = g.Key; Count = g.Count() |})\n",
    "        .ToArray()\n",
    "\n",
    "let activeByMonth =\n",
    "    openSoFar\n",
    "        .Where(fun i -> i.Comments > 0)\n",
    "        .GroupBy(fun i -> DateTime(i.CreatedAt.Year, i.CreatedAt.Month, 1))\n",
    "        .Select(fun g -> {| Date = g.Key; Count = g.Count() |})\n",
    "        .ToArray()\n",
    "\n",
    "let idleSeries =\n",
    "    Graph.Scattergl(\n",
    "        name = \"Idle\",\n",
    "        y = idleByMonth.Select(fun g -> g.Count).ToArray(),\n",
    "        x = idleByMonth.Select(fun g -> g.Date).ToArray())\n",
    "\n",
    "let activeSeries =\n",
    "    Graph.Scattergl(\n",
    "        name = \"Active\",\n",
    "        y = activeByMonth.Select(fun g -> g.Count).ToArray(),\n",
    "        x = activeByMonth.Select(fun g -> g.Date ).ToArray())\n",
    "\n",
    "let chart = Chart.Plot([|idleSeries; activeSeries|])\n",
    "\n",
    "chart.WithTitle(\"Idle and active open issue report\")\n",
    "display(chart);"
   ]
  },
  {
   "cell_type": "code",
   "execution_count": 68,
   "metadata": {},
   "outputs": [
    {
     "data": {
      "text/html": [
       "<div id=\"27f268c2-5210-44b1-b78e-bb4173f4cc49\" style=\"width: 900px; height: 500px;\"></div><script type=\"text/javascript\">\r\n",
       "\r\n",
       "var renderPlotly = function() {\r\n",
       "    var xplotRequire = requirejs.config({context:'xplot-2.0.0',paths:{plotly:'https://cdn.plot.ly/plotly-1.49.2.min'}});\r\n",
       "    xplotRequire(['plotly'], function(Plotly) {\r\n",
       "\n",
       "            var data = [{\"type\":\"scattergl\",\"x\":[\"2017-10-01T00:00:00\",\"2017-11-01T00:00:00\",\"2017-12-01T00:00:00\",\"2018-02-01T00:00:00\",\"2018-03-01T00:00:00\",\"2018-05-01T00:00:00\",\"2018-06-01T00:00:00\",\"2018-07-01T00:00:00\",\"2018-08-01T00:00:00\",\"2019-01-01T00:00:00\",\"2019-02-01T00:00:00\",\"2019-03-01T00:00:00\",\"2019-04-01T00:00:00\",\"2019-05-01T00:00:00\",\"2019-06-01T00:00:00\",\"2019-07-01T00:00:00\",\"2019-08-01T00:00:00\",\"2019-09-01T00:00:00\",\"2019-10-01T00:00:00\",\"2019-11-01T00:00:00\"],\"y\":[1,1,1,1,1,1,5,3,1,2,3,5,1,26,13,4,12,7,23,2],\"name\":\"Created\"},{\"type\":\"scattergl\",\"x\":[\"2018-10-01T00:00:00\",\"2018-11-01T00:00:00\",\"2018-12-01T00:00:00\",\"2019-01-01T00:00:00\",\"2019-02-01T00:00:00\",\"2019-03-01T00:00:00\",\"2019-04-01T00:00:00\",\"2019-05-01T00:00:00\",\"2019-06-01T00:00:00\",\"2019-07-01T00:00:00\",\"2019-08-01T00:00:00\",\"2019-09-01T00:00:00\",\"2019-10-01T00:00:00\",\"2019-11-01T00:00:00\"],\"y\":[2,9,1,3,4,1,3,47,40,42,61,60,82,1],\"name\":\"Closed\"},{\"type\":\"scattergl\",\"x\":[\"2017-10-01T00:00:00\",\"2018-04-01T00:00:00\",\"2018-05-01T00:00:00\",\"2018-06-01T00:00:00\",\"2018-07-01T00:00:00\",\"2018-10-01T00:00:00\",\"2018-11-01T00:00:00\",\"2019-01-01T00:00:00\",\"2019-02-01T00:00:00\",\"2019-03-01T00:00:00\",\"2019-04-01T00:00:00\",\"2019-05-01T00:00:00\",\"2019-06-01T00:00:00\",\"2019-07-01T00:00:00\",\"2019-08-01T00:00:00\",\"2019-09-01T00:00:00\",\"2019-10-01T00:00:00\",\"2019-11-01T00:00:00\"],\"y\":[469,468,465,464,463,450,449,448,446,441,436,432,389,347,304,248,187,114],\"name\":\"Open\"}];\n",
       "            var layout = {\"title\":\"Issue report for the current year\"};\n",
       "            Plotly.newPlot('27f268c2-5210-44b1-b78e-bb4173f4cc49', data, layout);\n",
       "        });\r\n",
       "};\r\n",
       "if ((typeof(requirejs) !==  typeof(Function)) || (typeof(requirejs.config) !== typeof(Function))) { \r\n",
       "    var script = document.createElement(\"script\"); \r\n",
       "    script.setAttribute(\"src\", \"https://cdnjs.cloudflare.com/ajax/libs/require.js/2.3.6/require.min.js\"); \r\n",
       "    script.onload = function(){\r\n",
       "        renderPlotly();\r\n",
       "    };\r\n",
       "    document.getElementsByTagName(\"head\")[0].appendChild(script); \r\n",
       "}\r\n",
       "else {\r\n",
       "    renderPlotly();\r\n",
       "}\r\n",
       "</script>"
      ]
     },
     "metadata": {},
     "output_type": "display_data"
    }
   ],
   "source": [
    "let openDataPoints =\n",
    "    openByMonthOfCreation\n",
    "        .Select(fun g -> {| y = g.Count; x = DateTime(g.Date.Year, g.Date.Month, 1) |})\n",
    "        .OrderBy(fun d -> d.x)\n",
    "        .ToArray()\n",
    "\n",
    "let closedDataPoints =\n",
    "    closedByMonthOfClosure\n",
    "        .Select(fun g -> {| y = g.Count; x = DateTime(g.Date.Year, g.Date.Month, 1) |})\n",
    "        .OrderBy(fun d -> d.x)\n",
    "        .ToArray()\n",
    "\n",
    "let openCountByMonthDataPoints =\n",
    "    openCountByMonth\n",
    "        .Select(fun g -> {| y = g.Count; x = DateTime(g.Date.Year, g.Date.Month, 1) |})\n",
    "        .OrderBy(fun d -> d.x)\n",
    "        .ToArray()\n",
    "\n",
    "let openSeries =\n",
    "    Graph.Scattergl(\n",
    "        name = \"Created\",\n",
    "        y = openDataPoints.Select(fun g -> g.y).ToArray(),\n",
    "        x = openDataPoints.Select(fun g -> g.x).ToArray())\n",
    "\n",
    "let closeSeries =\n",
    "    Graph.Scattergl(\n",
    "        name = \"Closed\",\n",
    "        y = closedDataPoints.Select(fun g -> g.y ).ToArray(),\n",
    "        x = closedDataPoints.Select(fun g -> g.x ).ToArray())\n",
    "\n",
    "let stillOpenSeries =\n",
    "    Graph.Scattergl(\n",
    "        name = \"Open\",\n",
    "        y = openCountByMonthDataPoints.Select(fun g -> g.y ).ToArray(),\n",
    "        x = openCountByMonthDataPoints.Select(fun g -> g.x ).ToArray())\n",
    "\n",
    "let chart =\n",
    "    Chart.Plot([| openSeries; closeSeries; stillOpenSeries |])\n",
    "\n",
    "chart.WithTitle(\"Issue report for the current year\")\n",
    "display(chart)"
   ]
  },
  {
   "cell_type": "code",
   "execution_count": 69,
   "metadata": {},
   "outputs": [
    {
     "data": {
      "text/html": [
       "<div id=\"81324a57-8fdd-4232-a354-268677ef24f6\" style=\"width: 900px; height: 500px;\"></div><script type=\"text/javascript\">\r\n",
       "\r\n",
       "var renderPlotly = function() {\r\n",
       "    var xplotRequire = requirejs.config({context:'xplot-2.0.0',paths:{plotly:'https://cdn.plot.ly/plotly-1.49.2.min'}});\r\n",
       "    xplotRequire(['plotly'], function(Plotly) {\r\n",
       "\n",
       "            var data = [{\"type\":\"scattergl\",\"x\":[\"2017-10-04T00:00:00\",\"2017-10-13T00:00:00\",\"2017-11-24T00:00:00\",\"2017-12-04T00:00:00\",\"2018-01-08T00:00:00\",\"2018-01-10T00:00:00\",\"2018-01-25T00:00:00\",\"2018-02-12T00:00:00\",\"2018-02-17T00:00:00\",\"2018-02-23T00:00:00\",\"2018-03-01T00:00:00\",\"2018-03-26T00:00:00\",\"2018-04-15T00:00:00\",\"2018-04-24T00:00:00\",\"2018-06-12T00:00:00\",\"2018-06-16T00:00:00\",\"2018-06-26T00:00:00\",\"2018-07-03T00:00:00\",\"2018-07-08T00:00:00\",\"2018-09-19T00:00:00\",\"2018-11-03T00:00:00\",\"2018-11-06T00:00:00\",\"2018-11-08T00:00:00\",\"2018-11-14T00:00:00\",\"2018-12-03T00:00:00\",\"2018-12-27T00:00:00\",\"2019-01-13T00:00:00\",\"2019-01-14T00:00:00\",\"2019-01-15T00:00:00\",\"2019-01-17T00:00:00\",\"2019-01-18T00:00:00\",\"2019-01-20T00:00:00\",\"2019-01-21T00:00:00\",\"2019-02-01T00:00:00\",\"2019-02-07T00:00:00\",\"2019-02-11T00:00:00\",\"2019-02-14T00:00:00\",\"2019-02-15T00:00:00\",\"2019-03-13T00:00:00\",\"2019-03-15T00:00:00\",\"2019-03-21T00:00:00\",\"2019-03-31T00:00:00\",\"2019-04-03T00:00:00\",\"2019-04-05T00:00:00\",\"2019-04-10T00:00:00\",\"2019-04-16T00:00:00\",\"2019-04-17T00:00:00\",\"2019-04-27T00:00:00\",\"2019-05-07T00:00:00\",\"2019-05-08T00:00:00\",\"2019-05-09T00:00:00\",\"2019-05-11T00:00:00\",\"2019-05-12T00:00:00\",\"2019-05-13T00:00:00\",\"2019-05-15T00:00:00\",\"2019-05-16T00:00:00\",\"2019-05-17T00:00:00\",\"2019-05-18T00:00:00\",\"2019-05-19T00:00:00\",\"2019-05-20T00:00:00\",\"2019-05-21T00:00:00\",\"2019-05-22T00:00:00\",\"2019-05-23T00:00:00\",\"2019-05-24T00:00:00\",\"2019-05-26T00:00:00\",\"2019-05-28T00:00:00\",\"2019-05-29T00:00:00\",\"2019-05-30T00:00:00\",\"2019-05-31T00:00:00\",\"2019-06-01T00:00:00\",\"2019-06-02T00:00:00\",\"2019-06-03T00:00:00\",\"2019-06-04T00:00:00\",\"2019-06-05T00:00:00\",\"2019-06-06T00:00:00\",\"2019-06-07T00:00:00\",\"2019-06-12T00:00:00\",\"2019-06-13T00:00:00\",\"2019-06-15T00:00:00\",\"2019-06-17T00:00:00\",\"2019-06-18T00:00:00\",\"2019-06-20T00:00:00\",\"2019-06-21T00:00:00\",\"2019-06-22T00:00:00\",\"2019-06-26T00:00:00\",\"2019-06-29T00:00:00\",\"2019-07-08T00:00:00\",\"2019-07-09T00:00:00\",\"2019-07-17T00:00:00\",\"2019-07-22T00:00:00\",\"2019-07-29T00:00:00\",\"2019-07-31T00:00:00\",\"2019-08-07T00:00:00\",\"2019-08-09T00:00:00\",\"2019-08-10T00:00:00\",\"2019-08-14T00:00:00\",\"2019-08-16T00:00:00\",\"2019-08-17T00:00:00\",\"2019-08-18T00:00:00\",\"2019-08-20T00:00:00\",\"2019-08-21T00:00:00\",\"2019-08-27T00:00:00\",\"2019-08-30T00:00:00\",\"2019-09-04T00:00:00\",\"2019-09-05T00:00:00\",\"2019-09-06T00:00:00\",\"2019-09-09T00:00:00\",\"2019-09-10T00:00:00\",\"2019-09-16T00:00:00\",\"2019-09-17T00:00:00\",\"2019-09-18T00:00:00\",\"2019-09-20T00:00:00\",\"2019-09-24T00:00:00\",\"2019-09-29T00:00:00\",\"2019-09-30T00:00:00\",\"2019-10-03T00:00:00\",\"2019-10-09T00:00:00\",\"2019-10-15T00:00:00\",\"2019-10-19T00:00:00\",\"2019-10-24T00:00:00\",\"2019-10-27T00:00:00\",\"2019-10-28T00:00:00\",\"2019-10-31T00:00:00\"],\"y\":[1,1,1,1,1,1,1,2,1,1,2,1,1,1,1,1,1,1,1,1,1,1,1,1,1,1,1,2,2,1,1,1,1,1,1,1,1,1,1,1,1,1,1,2,1,1,1,1,2,2,3,1,2,1,5,5,6,4,1,4,6,8,1,3,3,3,1,3,1,1,1,1,3,2,1,1,1,5,1,1,1,3,3,1,1,1,1,1,2,1,1,1,1,1,1,1,1,1,1,1,1,1,1,1,1,1,1,1,1,1,2,3,1,1,1,1,1,1,4,2,1,1,1],\"name\":\"created by month\"},{\"type\":\"scattergl\",\"x\":[\"2017-10-04T00:00:00\",\"2017-10-13T00:00:00\",\"2017-11-24T00:00:00\",\"2017-12-04T00:00:00\",\"2018-01-08T00:00:00\",\"2018-01-10T00:00:00\",\"2018-01-25T00:00:00\",\"2018-02-12T00:00:00\",\"2018-02-17T00:00:00\",\"2018-02-23T00:00:00\",\"2018-03-01T00:00:00\",\"2018-03-26T00:00:00\",\"2018-04-15T00:00:00\",\"2018-04-24T00:00:00\",\"2018-06-12T00:00:00\",\"2018-06-16T00:00:00\",\"2018-06-26T00:00:00\",\"2018-07-03T00:00:00\",\"2018-07-08T00:00:00\",\"2018-09-19T00:00:00\",\"2018-11-03T00:00:00\",\"2018-11-06T00:00:00\",\"2018-11-08T00:00:00\",\"2018-11-14T00:00:00\",\"2018-12-03T00:00:00\",\"2018-12-27T00:00:00\",\"2019-01-13T00:00:00\",\"2019-01-14T00:00:00\",\"2019-01-15T00:00:00\",\"2019-01-17T00:00:00\",\"2019-01-18T00:00:00\",\"2019-01-20T00:00:00\",\"2019-01-21T00:00:00\",\"2019-02-01T00:00:00\",\"2019-02-07T00:00:00\",\"2019-02-11T00:00:00\",\"2019-02-14T00:00:00\",\"2019-02-15T00:00:00\",\"2019-03-13T00:00:00\",\"2019-03-15T00:00:00\",\"2019-03-21T00:00:00\",\"2019-03-31T00:00:00\",\"2019-04-03T00:00:00\",\"2019-04-05T00:00:00\",\"2019-04-10T00:00:00\",\"2019-04-16T00:00:00\",\"2019-04-17T00:00:00\",\"2019-04-27T00:00:00\",\"2019-05-07T00:00:00\",\"2019-05-08T00:00:00\",\"2019-05-09T00:00:00\",\"2019-05-11T00:00:00\",\"2019-05-12T00:00:00\",\"2019-05-13T00:00:00\",\"2019-05-15T00:00:00\",\"2019-05-16T00:00:00\",\"2019-05-17T00:00:00\",\"2019-05-18T00:00:00\",\"2019-05-19T00:00:00\",\"2019-05-20T00:00:00\",\"2019-05-21T00:00:00\",\"2019-05-22T00:00:00\",\"2019-05-23T00:00:00\",\"2019-05-24T00:00:00\",\"2019-05-26T00:00:00\",\"2019-05-28T00:00:00\",\"2019-05-29T00:00:00\",\"2019-05-30T00:00:00\",\"2019-05-31T00:00:00\",\"2019-06-01T00:00:00\",\"2019-06-02T00:00:00\",\"2019-06-03T00:00:00\",\"2019-06-04T00:00:00\",\"2019-06-05T00:00:00\",\"2019-06-06T00:00:00\",\"2019-06-07T00:00:00\",\"2019-06-12T00:00:00\",\"2019-06-13T00:00:00\",\"2019-06-15T00:00:00\",\"2019-06-17T00:00:00\",\"2019-06-18T00:00:00\",\"2019-06-20T00:00:00\",\"2019-06-21T00:00:00\",\"2019-06-22T00:00:00\",\"2019-06-26T00:00:00\",\"2019-06-29T00:00:00\",\"2019-07-08T00:00:00\",\"2019-07-09T00:00:00\",\"2019-07-17T00:00:00\",\"2019-07-22T00:00:00\",\"2019-07-29T00:00:00\",\"2019-07-31T00:00:00\",\"2019-08-07T00:00:00\",\"2019-08-09T00:00:00\",\"2019-08-10T00:00:00\",\"2019-08-14T00:00:00\",\"2019-08-16T00:00:00\",\"2019-08-17T00:00:00\",\"2019-08-18T00:00:00\",\"2019-08-20T00:00:00\",\"2019-08-21T00:00:00\",\"2019-08-27T00:00:00\",\"2019-08-30T00:00:00\",\"2019-09-04T00:00:00\",\"2019-09-05T00:00:00\",\"2019-09-06T00:00:00\",\"2019-09-09T00:00:00\",\"2019-09-10T00:00:00\",\"2019-09-16T00:00:00\",\"2019-09-17T00:00:00\",\"2019-09-18T00:00:00\",\"2019-09-20T00:00:00\",\"2019-09-24T00:00:00\",\"2019-09-29T00:00:00\",\"2019-09-30T00:00:00\",\"2019-10-03T00:00:00\",\"2019-10-09T00:00:00\",\"2019-10-15T00:00:00\",\"2019-10-19T00:00:00\",\"2019-10-24T00:00:00\",\"2019-10-27T00:00:00\",\"2019-10-28T00:00:00\",\"2019-10-31T00:00:00\"],\"y\":[1,1,1,1,1,1,1,2,1,1,2,1,1,1,1,1,1,1,1,1,1,1,1,1,1,1,1,2,2,1,1,1,1,1,1,1,1,1,1,1,1,1,1,2,1,1,1,1,2,2,3,1,2,1,5,5,6,4,1,4,6,8,1,3,3,3,1,3,1,1,1,1,3,2,1,1,1,5,1,1,1,3,3,1,1,1,1,1,2,1,1,1,1,1,1,1,1,1,1,1,1,1,1,1,1,1,1,1,1,1,2,3,1,1,1,1,1,1,4,2,1,1,1],\"name\":\"running total\"},{\"type\":\"scattergl\",\"x\":[\"2017-10-04T00:00:00\",\"2017-10-11T00:00:00\",\"2017-11-22T00:00:00\",\"2017-12-02T00:00:00\",\"2017-12-16T00:00:00\",\"2018-01-25T00:00:00\",\"2018-02-08T00:00:00\",\"2018-02-17T00:00:00\",\"2018-02-21T00:00:00\",\"2018-02-28T00:00:00\",\"2018-03-01T00:00:00\",\"2018-03-26T00:00:00\",\"2018-04-24T00:00:00\",\"2018-06-16T00:00:00\",\"2018-06-30T00:00:00\",\"2018-07-03T00:00:00\",\"2018-07-08T00:00:00\",\"2018-09-19T00:00:00\",\"2018-11-03T00:00:00\",\"2018-11-06T00:00:00\",\"2018-11-08T00:00:00\",\"2018-11-14T00:00:00\",\"2018-12-03T00:00:00\",\"2018-12-27T00:00:00\",\"2019-01-13T00:00:00\",\"2019-01-14T00:00:00\",\"2019-01-15T00:00:00\",\"2019-01-17T00:00:00\",\"2019-01-18T00:00:00\",\"2019-01-21T00:00:00\",\"2019-02-01T00:00:00\",\"2019-02-02T00:00:00\",\"2019-02-07T00:00:00\",\"2019-02-11T00:00:00\",\"2019-02-14T00:00:00\",\"2019-02-15T00:00:00\",\"2019-03-13T00:00:00\",\"2019-03-15T00:00:00\",\"2019-03-21T00:00:00\",\"2019-03-31T00:00:00\",\"2019-04-05T00:00:00\",\"2019-04-09T00:00:00\",\"2019-04-10T00:00:00\",\"2019-04-11T00:00:00\",\"2019-04-16T00:00:00\",\"2019-04-17T00:00:00\",\"2019-04-27T00:00:00\",\"2019-05-07T00:00:00\",\"2019-05-08T00:00:00\",\"2019-05-09T00:00:00\",\"2019-05-11T00:00:00\",\"2019-05-12T00:00:00\",\"2019-05-13T00:00:00\",\"2019-05-15T00:00:00\",\"2019-05-16T00:00:00\",\"2019-05-17T00:00:00\",\"2019-05-18T00:00:00\",\"2019-05-19T00:00:00\",\"2019-05-20T00:00:00\",\"2019-05-21T00:00:00\",\"2019-05-22T00:00:00\",\"2019-05-23T00:00:00\",\"2019-05-24T00:00:00\",\"2019-05-26T00:00:00\",\"2019-05-28T00:00:00\",\"2019-05-29T00:00:00\",\"2019-05-30T00:00:00\",\"2019-05-31T00:00:00\",\"2019-06-01T00:00:00\",\"2019-06-02T00:00:00\",\"2019-06-03T00:00:00\",\"2019-06-04T00:00:00\",\"2019-06-05T00:00:00\",\"2019-06-06T00:00:00\",\"2019-06-07T00:00:00\",\"2019-06-12T00:00:00\",\"2019-06-13T00:00:00\",\"2019-06-15T00:00:00\",\"2019-06-17T00:00:00\",\"2019-06-18T00:00:00\",\"2019-06-20T00:00:00\",\"2019-06-21T00:00:00\",\"2019-06-22T00:00:00\",\"2019-06-26T00:00:00\",\"2019-06-29T00:00:00\",\"2019-07-01T00:00:00\",\"2019-07-08T00:00:00\",\"2019-07-09T00:00:00\",\"2019-07-10T00:00:00\",\"2019-07-17T00:00:00\",\"2019-07-22T00:00:00\",\"2019-08-07T00:00:00\",\"2019-08-09T00:00:00\",\"2019-08-10T00:00:00\",\"2019-08-14T00:00:00\",\"2019-08-16T00:00:00\",\"2019-08-17T00:00:00\",\"2019-08-20T00:00:00\",\"2019-08-21T00:00:00\",\"2019-09-04T00:00:00\",\"2019-09-05T00:00:00\",\"2019-09-06T00:00:00\",\"2019-09-09T00:00:00\",\"2019-09-10T00:00:00\",\"2019-09-16T00:00:00\",\"2019-09-17T00:00:00\",\"2019-09-18T00:00:00\",\"2019-09-20T00:00:00\",\"2019-09-24T00:00:00\",\"2019-09-28T00:00:00\",\"2019-09-29T00:00:00\",\"2019-09-30T00:00:00\",\"2019-10-03T00:00:00\",\"2019-10-08T00:00:00\",\"2019-10-09T00:00:00\",\"2019-10-15T00:00:00\",\"2019-10-19T00:00:00\",\"2019-10-21T00:00:00\",\"2019-10-24T00:00:00\",\"2019-10-27T00:00:00\",\"2019-10-28T00:00:00\",\"2019-10-30T00:00:00\",\"2019-10-31T00:00:00\",\"2019-11-01T00:00:00\",\"2019-11-02T00:00:00\"],\"y\":[1,1,1,1,2,1,2,1,1,1,1,1,1,1,1,1,1,1,1,1,1,1,1,1,1,2,1,1,1,1,1,1,1,1,1,1,1,1,1,1,1,1,1,1,1,1,1,2,2,3,1,2,1,4,4,6,4,1,4,5,7,1,3,3,3,1,2,1,1,1,1,3,2,1,1,1,4,1,1,2,3,3,1,1,1,1,1,1,2,2,1,1,1,1,1,2,1,1,1,1,2,1,1,1,2,1,1,3,1,1,2,1,1,1,1,1,4,1,1,1,1,1,3,1,1],\"name\":\"last update by month\"}];\n",
       "            var layout = {\"title\":\"Fork activity\"};\n",
       "            Plotly.newPlot('81324a57-8fdd-4232-a354-268677ef24f6', data, layout);\n",
       "        });\r\n",
       "};\r\n",
       "if ((typeof(requirejs) !==  typeof(Function)) || (typeof(requirejs.config) !== typeof(Function))) { \r\n",
       "    var script = document.createElement(\"script\"); \r\n",
       "    script.setAttribute(\"src\", \"https://cdnjs.cloudflare.com/ajax/libs/require.js/2.3.6/require.min.js\"); \r\n",
       "    script.onload = function(){\r\n",
       "        renderPlotly();\r\n",
       "    };\r\n",
       "    document.getElementsByTagName(\"head\")[0].appendChild(script); \r\n",
       "}\r\n",
       "else {\r\n",
       "    renderPlotly();\r\n",
       "}\r\n",
       "</script>"
      ]
     },
     "metadata": {},
     "output_type": "display_data"
    }
   ],
   "source": [
    "let forks = await (fun () -> gitHubClient.Repository.Forks.GetAll(organization, repositoryName))\n",
    "\n",
    "let forkCreateByMonth =\n",
    "    forks.Result\n",
    "         .GroupBy(fun f -> DateTime(f.CreatedAt.Year, f.CreatedAt.Month,  f.CreatedAt.Day))\n",
    "         .Select(fun g -> {| Date = g.Key; Count = g.Count() |})\n",
    "         .OrderBy(fun g -> g.Date)\n",
    "         .ToArray()\n",
    "\n",
    "let forkLastUpdateByMonth =\n",
    "    forks.Result\n",
    "         .GroupBy(fun f -> DateTime(f.UpdatedAt.Year, f.UpdatedAt.Month,  f.UpdatedAt.Day))\n",
    "         .Select(fun g -> {| Date = g.Key; Count = g.Count() |})\n",
    "         .OrderBy(fun g -> g.Date)\n",
    "         .ToArray()\n",
    "\n",
    "let total = 0\n",
    "let forkCountByMonth =\n",
    "    forkCreateByMonth\n",
    "        .OrderBy(fun g -> g.Date)\n",
    "        .Select(fun g -> {| Date = g.Date; Count = total + g.Count |})\n",
    "        .ToArray()\n",
    "\n",
    "let forkCreationSeries =\n",
    "    Graph.Scattergl(\n",
    "        name = \"created by month\",\n",
    "        y = forkCreateByMonth.Select(fun g -> g.Count).ToArray(),\n",
    "        x = forkCreateByMonth.Select(fun g -> g.Date).ToArray())\n",
    "\n",
    "let forkTotalSeries =\n",
    "    Graph.Scattergl(\n",
    "        name = \"running total\",\n",
    "        y = forkCountByMonth.Select(fun g -> g.Count ).ToArray(),\n",
    "        x = forkCountByMonth.Select(fun g -> g.Date ).ToArray())\n",
    "\n",
    "let forkUpdateSeries =\n",
    "    Graph.Scattergl(\n",
    "        name = \"last update by month\",\n",
    "        y = forkLastUpdateByMonth.Select(fun g -> g.Count ).ToArray(),\n",
    "        x = forkLastUpdateByMonth.Select(fun g -> g.Date ).ToArray())\n",
    "\n",
    "let chart =\n",
    "    Chart.Plot([| forkCreationSeries; forkTotalSeries; forkUpdateSeries |])\n",
    "\n",
    "chart.WithTitle(\"Fork activity\")\n",
    "display(chart)"
   ]
  },
  {
   "cell_type": "code",
   "execution_count": null,
   "metadata": {},
   "outputs": [],
   "source": []
  }
 ],
 "metadata": {
  "kernelspec": {
   "display_name": ".NET (F#)",
   "language": "F#",
   "name": ".net-fsharp"
  },
  "language_info": {
   "file_extension": ".fs",
   "mimetype": "text/x-fsharp",
   "name": "C#",
   "pygments_lexer": "fsharp",
   "version": "4.5"
  }
 },
 "nbformat": 4,
 "nbformat_minor": 4
}
